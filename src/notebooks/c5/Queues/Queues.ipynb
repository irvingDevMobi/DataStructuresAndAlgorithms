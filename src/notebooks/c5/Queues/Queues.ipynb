{
 "cells": [
  {
   "cell_type": "markdown",
   "source": [
    "# Queues"
   ],
   "metadata": {
    "collapsed": false
   }
  },
  {
   "cell_type": "markdown",
   "source": [
    "Queues use **FIFO** or **firs in, first out** ordering, meaning the first element that was added will always be the first one removed. Queues are handy when you need to maintain the order of your elements to process later.\n",
    "\n",
    "## Common Operations"
   ],
   "metadata": {
    "collapsed": false
   }
  },
  {
   "cell_type": "code",
   "execution_count": 9,
   "outputs": [],
   "source": [
    "interface Queue<T: Any> {\n",
    "    fun enqueue(element: T): Boolean\n",
    "    fun dequeue(): T?\n",
    "    val count: Int\n",
    "        get\n",
    "    val isEmpty: Boolean\n",
    "        get() = count == 0\n",
    "    fun peek(): T?\n",
    "}"
   ],
   "metadata": {
    "collapsed": false,
    "ExecuteTime": {
     "end_time": "2023-08-12T00:36:33.377099Z",
     "start_time": "2023-08-12T00:36:33.341500Z"
    }
   }
  },
  {
   "cell_type": "markdown",
   "source": [
    "- `enqueue`: Inserts an element at the back of the queue and returns `true`if the operation is successful.\n",
    "- `dequeue`: Removes the element at the front of the queue and returns it.\n",
    "- `isEmpty`: Checks if the queue is empty using the `count` property.\n",
    "- `peek`: Returns the element at the front of the queue without removing it.\n",
    "\n",
    "![Queue](queue.png)\n"
   ],
   "metadata": {
    "collapsed": false
   }
  },
  {
   "cell_type": "markdown",
   "source": [
    "## List-based implementation"
   ],
   "metadata": {
    "collapsed": false
   }
  },
  {
   "cell_type": "code",
   "execution_count": 10,
   "outputs": [],
   "source": [
    "class ArrayListQueue<T: Any> : Queue<T> {\n",
    "    private val list = arrayListOf<T>()\n",
    "\n",
    "    override val count: Int\n",
    "        get() = list.size\n",
    "\n",
    "    override fun peek(): T? = list.getOrNull(0)\n",
    "\n",
    "    override fun enqueue(element: T): Boolean {\n",
    "        list.add(element)\n",
    "        return true\n",
    "    }\n",
    "\n",
    "    override fun dequeue(): T? = \n",
    "        if (isEmpty) null else list.removeAt(0)\n",
    "\n",
    "    override fun toString(): String = list.toString()\n",
    "}"
   ],
   "metadata": {
    "collapsed": false,
    "ExecuteTime": {
     "end_time": "2023-08-12T00:36:33.435987Z",
     "start_time": "2023-08-12T00:36:33.372646Z"
    }
   }
  },
  {
   "cell_type": "markdown",
   "source": [
    "`enqueue` is an **O(1)** operation. This is because the list has empty space at the back.\n",
    "\n",
    "![Queue](queue.png)\n",
    "\n",
    "After adding multiple element, the internal array of the ArrayList will eventually be full. When you want to use more than the allocated space, the array must resize to make additional room.\n",
    "\n",
    "![Resizing](queue-resizing.png)\n",
    "\n",
    "Resizing is an **O(n)** operation. Since this doesn't happen very often, the complexity still works out to be an amortized O(1).\n",
    "\n",
    "`dequeue`is an **O(n)** operation. You remove the element from the beginning of the list, it requires all the remaining elements in the list to be shifted in memory."
   ],
   "metadata": {
    "collapsed": false
   }
  },
  {
   "cell_type": "code",
   "execution_count": 11,
   "outputs": [
    {
     "name": "stdout",
     "output_type": "stream",
     "text": [
      "Queue with ArrayList\n",
      "[Ray, Brian, Eric]\n",
      "Dequeued: Ray\n",
      "[Brian, Eric]\n"
     ]
    }
   ],
   "source": [
    "println(\"Queue with ArrayList\")\n",
    "val queue = ArrayListQueue<String>().apply { \n",
    "    enqueue(\"Ray\")\n",
    "    enqueue(\"Brian\")\n",
    "    enqueue(\"Eric\")\n",
    " }\n",
    " println(queue)\n",
    " val dequeued = queue.dequeue()\n",
    " println(\"Dequeued: $dequeued\")\n",
    " println(queue)"
   ],
   "metadata": {
    "collapsed": false,
    "ExecuteTime": {
     "end_time": "2023-08-12T00:36:33.530027Z",
     "start_time": "2023-08-12T00:36:33.435902Z"
    }
   }
  },
  {
   "cell_type": "markdown",
   "source": [
    "![Array-Based Queue](queue-arraylist-metrics.png)"
   ],
   "metadata": {
    "collapsed": false
   }
  },
  {
   "cell_type": "markdown",
   "source": [
    "## Doubly linked list implementation"
   ],
   "metadata": {
    "collapsed": false
   }
  },
  {
   "cell_type": "code",
   "execution_count": 12,
   "outputs": [],
   "source": [
    "data class Node<T : Any>(\n",
    "    var value: T,\n",
    "    var next: Node<T>? = null,\n",
    "    var previous: Node<T>? = null\n",
    ") {\n",
    "    override fun toString(): String {\n",
    "        return if (next != null) {\n",
    "            \"$value -> ${next.toString()}\"\n",
    "        } else {\n",
    "            \"$value\"\n",
    "        }\n",
    "    }\n",
    "}"
   ],
   "metadata": {
    "collapsed": false,
    "ExecuteTime": {
     "end_time": "2023-08-12T00:36:33.581984Z",
     "start_time": "2023-08-12T00:36:33.528070Z"
    }
   }
  },
  {
   "cell_type": "code",
   "execution_count": 13,
   "outputs": [],
   "source": [
    "class DoublyLinkedList<T : Any> {\n",
    "\n",
    "    fun isEmpty(): Boolean {\n",
    "        return head == null\n",
    "    }\n",
    "\n",
    "    private var head: Node<T>? = null\n",
    "    private var tail: Node<T>? = null\n",
    "\n",
    "\n",
    "    override fun toString(): String {\n",
    "        if (isEmpty()) {\n",
    "            return \"Empty list\"\n",
    "        }\n",
    "        return head.toString()\n",
    "    }\n",
    "\n",
    "    fun append(value: T) {\n",
    "        val newNode = Node(value = value, previous = tail)\n",
    "        if (isEmpty()) {\n",
    "            head = newNode\n",
    "            tail = newNode\n",
    "            return\n",
    "        }\n",
    "        tail?.next = newNode\n",
    "\n",
    "        tail = newNode\n",
    "    }\n",
    "\n",
    "    fun node(index: Int): Node<T>? {\n",
    "        var currentNode = head\n",
    "        var currentIndex = 0\n",
    "\n",
    "        while (currentNode != null && currentIndex < index) {\n",
    "            currentNode = currentNode.next\n",
    "            currentIndex += 1\n",
    "        }\n",
    "        return currentNode\n",
    "    }\n",
    "\n",
    "    fun remove(node: Node<T>): T {\n",
    "        val prev = node.previous\n",
    "        val next = node.next\n",
    "\n",
    "        if (prev != null) {\n",
    "            prev.next = next\n",
    "        } else {\n",
    "            head = next\n",
    "        }\n",
    "        next?.previous = prev\n",
    "        if (next == null) {\n",
    "            tail = prev\n",
    "        }\n",
    "        node.previous = null\n",
    "        node.next = null\n",
    "        return node.value\n",
    "    }\n",
    "\n",
    "    val first: Node<T>?\n",
    "        get() = head\n",
    "\n",
    "}"
   ],
   "metadata": {
    "collapsed": false,
    "ExecuteTime": {
     "end_time": "2023-08-12T00:36:33.675947Z",
     "start_time": "2023-08-12T00:36:33.582294Z"
    }
   }
  },
  {
   "cell_type": "code",
   "execution_count": 16,
   "outputs": [],
   "source": [
    "\n",
    "\n",
    "class LinkedLisQueue<T: Any> : Queue<T> {\n",
    "    private val list = DoublyLinkedList<T>()\n",
    "    \n",
    "    private var size = 0\n",
    "\n",
    "    override val count: Int\n",
    "        get() = size\n",
    "\n",
    "    // 1\n",
    "    override fun enqueue(element: T): Boolean {\n",
    "        list.append(element)\n",
    "        size++\n",
    "        return true\n",
    "    }\n",
    "\n",
    "    // 2\n",
    "    override fun dequeue(): T? {\n",
    "        val firstNode = list.first ?: return null\n",
    "        size--\n",
    "        return list.remove(firstNode)\n",
    "    }\n",
    "\n",
    "    override fun peek(): T? = list.first?.value\n",
    "\n",
    "    override fun toString(): String = list.toString()\n",
    "}"
   ],
   "metadata": {
    "collapsed": false,
    "ExecuteTime": {
     "end_time": "2023-08-12T00:37:29.445646Z",
     "start_time": "2023-08-12T00:37:29.383973Z"
    }
   }
  },
  {
   "cell_type": "markdown",
   "source": [
    "1. Behind the scenes, the doubly linked list will update its tail node's previous and next references to the new node. This ia an **O(1)** operation.\n",
    "![Enqueue](enqueue-doublell.png)\n",
    "2. Removing from the front of the list is also an **O(1)** operation. The doubly linked list updates the `next` abd `previous` pointer between the first two nodes of the linked list.\n",
    "![Dequeue](dequeue-doublell.png)  "
   ],
   "metadata": {
    "collapsed": false
   }
  },
  {
   "cell_type": "code",
   "execution_count": 17,
   "outputs": [
    {
     "name": "stdout",
     "output_type": "stream",
     "text": [
      "Queue with Double Linked List\n",
      "Ray -> Brian -> Eric\n",
      "Dequeued: Ray\n",
      "Brian -> Eric\n",
      "Next up: Brian\n"
     ]
    }
   ],
   "source": [
    "println(\"Queue with Double Linked List\")\n",
    "val queue = LinkedLisQueue<String>().apply { \n",
    "    enqueue(\"Ray\")\n",
    "    enqueue(\"Brian\")\n",
    "    enqueue(\"Eric\")\n",
    " }\n",
    " println(queue)\n",
    " val dequeued = queue.dequeue()\n",
    " println(\"Dequeued: $dequeued\")\n",
    " println(queue)\n",
    " println(\"Next up: ${queue.peek()}\")"
   ],
   "metadata": {
    "collapsed": false,
    "ExecuteTime": {
     "end_time": "2023-08-12T00:37:32.707763Z",
     "start_time": "2023-08-12T00:37:32.592498Z"
    }
   }
  },
  {
   "cell_type": "markdown",
   "source": [
    "![Linked-List Based Queue](queue-doublell-metrics.png)"
   ],
   "metadata": {
    "collapsed": false
   }
  },
  {
   "cell_type": "markdown",
   "source": [
    "The main weaknesses with `LinkedListQueue` is that each element has to have extra storage for the forward and back reference and every time you create a new element, it requires relatively expensive dynamic allocation."
   ],
   "metadata": {
    "collapsed": false
   }
  },
  {
   "cell_type": "markdown",
   "source": [
    "# Ring buffer implementation"
   ],
   "metadata": {
    "collapsed": false
   }
  },
  {
   "cell_type": "code",
   "execution_count": 19,
   "outputs": [],
   "source": [
    "class RingBuffer<T : Any>(private val size: Int) {\n",
    "\n",
    "  private var array = ArrayList<T?>(size)\n",
    "  private var readIndex = 0\n",
    "  private var writeIndex = 0\n",
    "\n",
    "  val count: Int\n",
    "    get() = availableSpaceForReading\n",
    "\n",
    "  private val availableSpaceForReading: Int\n",
    "    get() = (writeIndex - readIndex)\n",
    "\n",
    "  val first: T?\n",
    "    get() = array.getOrNull(readIndex)\n",
    "\n",
    "  val isEmpty: Boolean\n",
    "    get() = (count == 0)\n",
    "\n",
    "  private val availableSpaceForWriting: Int\n",
    "    get() = (size - availableSpaceForReading)\n",
    "\n",
    "  val isFull: Boolean\n",
    "    get() = (availableSpaceForWriting == 0)\n",
    "\n",
    "  fun write(element: T): Boolean {\n",
    "    return if (!isFull) {\n",
    "      if (array.size < size) {\n",
    "        array.add(element)\n",
    "      } else {\n",
    "        array[writeIndex % size] = element\n",
    "      }\n",
    "      writeIndex += 1\n",
    "      true\n",
    "    } else {\n",
    "      false\n",
    "    }\n",
    "  }\n",
    "\n",
    "  fun read(): T? {\n",
    "    return if (!isEmpty) {\n",
    "      val element = array[readIndex % size]\n",
    "      readIndex += 1\n",
    "      element\n",
    "    } else {\n",
    "      null\n",
    "    }\n",
    "  }\n",
    "\n",
    "  override fun toString(): String {\n",
    "    val values = (0 until availableSpaceForReading).map { offset ->\n",
    "      \"${array[(readIndex + offset) % size]!!}\"\n",
    "    }\n",
    "    return values.joinToString(prefix = \"[\", separator = \", \", postfix = \"]\")\n",
    "  }\n",
    "\n",
    "}"
   ],
   "metadata": {
    "collapsed": false,
    "ExecuteTime": {
     "end_time": "2023-08-12T01:10:56.376871Z",
     "start_time": "2023-08-12T01:10:56.249507Z"
    }
   }
  },
  {
   "cell_type": "code",
   "execution_count": 20,
   "outputs": [],
   "source": [
    "class RingBufferQueue<T: Any>(size: Int): Queue<T> {\n",
    "    private val ringBuffer = RingBuffer<T>(size)\n",
    "\n",
    "    override val count: Int\n",
    "        get() = ringBuffer.count\n",
    "\n",
    "    override fun peek(): T? = ringBuffer.first\n",
    "\n",
    "    override fun enqueue(element: T): Boolean = ringBuffer.write(element)\n",
    "\n",
    "    override fun dequeue(): T? = \n",
    "        if (isEmpty) null else ringBuffer.read()\n",
    "\n",
    "    override fun toString(): String = ringBuffer.toString()\n",
    "}"
   ],
   "metadata": {
    "collapsed": false,
    "ExecuteTime": {
     "end_time": "2023-08-12T01:15:18.087221Z",
     "start_time": "2023-08-12T01:15:18.033878Z"
    }
   }
  },
  {
   "cell_type": "code",
   "execution_count": 21,
   "outputs": [
    {
     "name": "stdout",
     "output_type": "stream",
     "text": [
      "Queue with Ring Buffer\n",
      "[Ray, Brian, Eric]\n",
      "Dequed: Ray\n",
      "[Brian, Eric]\n",
      "Next up: Brian\n"
     ]
    }
   ],
   "source": [
    "println(\"Queue with Ring Buffer\")\n",
    "val queue = RingBufferQueue<String>(10).apply { \n",
    "    enqueue(\"Ray\")\n",
    "    enqueue(\"Brian\")\n",
    "    enqueue(\"Eric\")\n",
    " }\n",
    " println(queue)\n",
    " println(\"Dequed: ${queue.dequeue()}\")\n",
    " println(queue)\n",
    " println(\"Next up: ${queue.peek()}\")"
   ],
   "metadata": {
    "collapsed": false,
    "ExecuteTime": {
     "end_time": "2023-08-12T01:21:03.761322Z",
     "start_time": "2023-08-12T01:21:03.686609Z"
    }
   }
  },
  {
   "cell_type": "markdown",
   "source": [
    "![Ring-Buffer Based Queue](queue-ring-metrics.png)"
   ],
   "metadata": {
    "collapsed": false
   }
  },
  {
   "cell_type": "markdown",
   "source": [
    "The ring buffer has a fixed size, which means that enqueue can fail."
   ],
   "metadata": {
    "collapsed": false
   }
  },
  {
   "cell_type": "markdown",
   "source": [
    "# Double-stack implementation"
   ],
   "metadata": {
    "collapsed": false
   }
  },
  {
   "cell_type": "code",
   "execution_count": 22,
   "outputs": [],
   "source": [
    "interface Stack<T : Any> {\n",
    "    fun push(element: T)\n",
    "\n",
    "    fun pop(): T?\n",
    "\n",
    "    fun peek(): T?\n",
    "\n",
    "    val count: Int\n",
    "        get\n",
    "\n",
    "    val isEmpty: Boolean\n",
    "        get() = count == 0\n",
    "}\n",
    "\n",
    "class StackImpl<T : Any> : Stack<T> {\n",
    "    private val storage = arrayListOf<T>()\n",
    "\n",
    "    override fun toString() = buildString {\n",
    "        appendLine(\"----top----\")\n",
    "        storage.asReversed().forEach {\n",
    "            appendLine(\"$it\")\n",
    "        }\n",
    "        appendLine(\"-----------\")\n",
    "    }\n",
    "\n",
    "    override val count: Int\n",
    "        get() = storage.size\n",
    "\n",
    "    override fun push(element: T) {\n",
    "        storage.add(element)\n",
    "    }\n",
    "\n",
    "    override fun pop(): T? {\n",
    "        if (isEmpty) {\n",
    "            return null\n",
    "        }\n",
    "        return storage.removeAt(count - 1)\n",
    "    }\n",
    "\n",
    "    override fun peek(): T? {\n",
    "        return storage.lastOrNull()\n",
    "    }\n",
    "\n",
    "    companion object {\n",
    "        fun <T : Any> create(items: Iterable<T>): Stack<T> {\n",
    "            val stack = StackImpl<T>()\n",
    "            for (item in items) {\n",
    "                stack.push(item)\n",
    "            }\n",
    "            return stack\n",
    "        }\n",
    "    }\n",
    "}\n",
    "\n",
    "fun <T : Any> stackOf(vararg elements: T): Stack<T> {\n",
    "    return StackImpl.create(elements.asList())\n",
    "}"
   ],
   "metadata": {
    "collapsed": false,
    "ExecuteTime": {
     "end_time": "2023-08-12T01:28:24.121816Z",
     "start_time": "2023-08-12T01:28:23.940745Z"
    }
   }
  },
  {
   "cell_type": "markdown",
   "source": [
    "Whenever you enqueue an element, it goes in the right stack. When you need to dequeue an element, you reverse the right stack and place it in the **left** stack so that you can retrieve the elements using FIFO order.\n",
    "![Queue with Double Stack](queue_double_stack.png)"
   ],
   "metadata": {
    "collapsed": false
   }
  },
  {
   "cell_type": "code",
   "execution_count": 26,
   "outputs": [],
   "source": [
    "class StackQueue<T: Any> : Queue<T> {\n",
    "    private val leftStack = StackImpl<T>()\n",
    "    private val rightStack = StackImpl<T>()\n",
    "\n",
    "    override val count: Int\n",
    "        get() = leftStack.count + rightStack.count\n",
    "\n",
    "    override val isEmpty: Boolean\n",
    "        get() = leftStack.isEmpty && rightStack.isEmpty\n",
    "\n",
    "    override fun peek(): T? {\n",
    "        if (leftStack.isEmpty) transferElements()\n",
    "        return leftStack.peek()\n",
    "    }\n",
    "\n",
    "    override fun enqueue(element: T): Boolean {\n",
    "        rightStack.push(element)\n",
    "        return true\n",
    "    }\n",
    "\n",
    "    override fun dequeue(): T? {\n",
    "        if (leftStack.isEmpty) transferElements()\n",
    "        return leftStack.pop()\n",
    "    }\n",
    "        \n",
    "    // you pop elements from the right stack and push them into the left stack.\n",
    "    private fun transferElements() {\n",
    "        var nextElement = rightStack.pop()\n",
    "        while (nextElement != null) {\n",
    "            leftStack.push(nextElement)\n",
    "            nextElement = rightStack.pop()\n",
    "        }\n",
    "    }\n",
    "\n",
    "    override fun toString(): String {\n",
    "        return \"Left stack \\n$leftStack Righ stack: \\n$rightStack\"\n",
    "    }\n",
    "}"
   ],
   "metadata": {
    "collapsed": false,
    "ExecuteTime": {
     "end_time": "2023-08-12T17:43:06.546631Z",
     "start_time": "2023-08-12T17:43:06.480372Z"
    }
   }
  },
  {
   "cell_type": "markdown",
   "source": [
    "If you have a lot of elements in the right stack, calling `peek()` will be **O(n)** for just that one call when it has to move all of those elements. Any further call will be **O(1)**.\n",
    "Remember, you only transfer the elements in the right stack when the left stack is empty. This makes `dequeue()` an amortized **O(1)** operation, just like `peek()`. "
   ],
   "metadata": {
    "collapsed": false
   }
  },
  {
   "cell_type": "code",
   "execution_count": 27,
   "outputs": [
    {
     "name": "stdout",
     "output_type": "stream",
     "text": [
      "Queue with Double Stack\n",
      "Left stack \n",
      "----top----\n",
      "-----------\n",
      " Righ stack: \n",
      "----top----\n",
      "Eric\n",
      "Brian\n",
      "Ray\n",
      "-----------\n",
      "\n",
      "Dequed: Ray\n",
      "Left stack \n",
      "----top----\n",
      "Brian\n",
      "Eric\n",
      "-----------\n",
      " Righ stack: \n",
      "----top----\n",
      "-----------\n",
      "\n",
      "Next up: Brian\n"
     ]
    }
   ],
   "source": [
    "println(\"Queue with Double Stack\")\n",
    "val queue = StackQueue<String>().apply { \n",
    "    enqueue(\"Ray\")\n",
    "    enqueue(\"Brian\")\n",
    "    enqueue(\"Eric\")\n",
    " }\n",
    " println(queue)\n",
    " println(\"Dequed: ${queue.dequeue()}\")\n",
    " println(queue)\n",
    " println(\"Next up: ${queue.peek()}\")"
   ],
   "metadata": {
    "collapsed": false,
    "ExecuteTime": {
     "end_time": "2023-08-12T17:43:09.637168Z",
     "start_time": "2023-08-12T17:43:09.586414Z"
    }
   }
  },
  {
   "cell_type": "markdown",
   "source": [
    "# Challenge 3: Monopoly\n",
    "\n",
    "Create a Monopoly organizer that tells you whose turn it is."
   ],
   "metadata": {
    "collapsed": false
   }
  },
  {
   "cell_type": "code",
   "execution_count": 35,
   "outputs": [
    {
     "name": "stdout",
     "output_type": "stream",
     "text": [
      "NextPlayer: Jose\n",
      "NextPlayer: Peter\n",
      "NextPlayer: Vicent\n",
      "NextPlayer: Parker\n",
      "NextPlayer: Jose\n",
      "NextPlayer: Peter\n",
      "NextPlayer: Vicent\n",
      "NextPlayer: Parker\n",
      "NextPlayer: Jose\n",
      "NextPlayer: Peter\n",
      "NextPlayer: Vicent\n"
     ]
    }
   ],
   "source": [
    "fun <T : Any> Queue<T>.nextPlayer(): T? {\n",
    "    val next = dequeue()\n",
    "    if (next != null) enqueue(next)\n",
    "    return next\n",
    "}\n",
    "\n",
    "val players = StackQueue<String>().apply { \n",
    "    enqueue(\"Jose\")\n",
    "    enqueue(\"Peter\")\n",
    "    enqueue(\"Vicent\")\n",
    "    enqueue(\"Parker\")\n",
    " }\n",
    " for (i in 0..10) {\n",
    "     println(\"NextPlayer: ${players.nextPlayer()}\")\n",
    " }"
   ],
   "metadata": {
    "collapsed": false,
    "ExecuteTime": {
     "end_time": "2023-08-14T01:27:20.640960Z",
     "start_time": "2023-08-14T01:27:20.543800Z"
    }
   }
  },
  {
   "cell_type": "markdown",
   "source": [
    "# Challenge 4: Reverse data\n",
    "\n",
    "Implement a method to reverse the contents of a queue using an extension function."
   ],
   "metadata": {
    "collapsed": false
   }
  },
  {
   "cell_type": "code",
   "execution_count": 39,
   "outputs": [
    {
     "name": "stdout",
     "output_type": "stream",
     "text": [
      "Original List:\n",
      "Jose -> Peter -> Vicent -> Parker\n",
      "Reversed:\n",
      "Parker -> Vicent -> Peter -> Jose\n"
     ]
    }
   ],
   "source": [
    "fun <T: Any> Queue<T>.reverse() {\n",
    "    val stack = StackImpl<T>()\n",
    "    while (peek() != null) {\n",
    "        stack.push(dequeue()!!)\n",
    "    }\n",
    "    while (stack.peek() != null) {\n",
    "        enqueue(stack.pop()!!)\n",
    "    }\n",
    "}\n",
    "\n",
    "val players = LinkedLisQueue<String>().apply {\n",
    "    enqueue(\"Jose\")\n",
    "    enqueue(\"Peter\")\n",
    "    enqueue(\"Vicent\")\n",
    "    enqueue(\"Parker\")\n",
    "}\n",
    "println(\"Original List:\")\n",
    "println(players)\n",
    "println(\"Reversed:\")\n",
    "players.reverse()\n",
    "println(players)"
   ],
   "metadata": {
    "collapsed": false,
    "ExecuteTime": {
     "end_time": "2023-08-14T01:39:53.288503Z",
     "start_time": "2023-08-14T01:39:53.228072Z"
    }
   }
  }
 ],
 "metadata": {
  "kernelspec": {
   "display_name": "Kotlin",
   "language": "kotlin",
   "name": "kotlin"
  },
  "language_info": {
   "name": "kotlin",
   "version": "1.8.20",
   "mimetype": "text/x-kotlin",
   "file_extension": ".kt",
   "pygments_lexer": "kotlin",
   "codemirror_mode": "text/x-kotlin",
   "nbconvert_exporter": ""
  }
 },
 "nbformat": 4,
 "nbformat_minor": 0
}
