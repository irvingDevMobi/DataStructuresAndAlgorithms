{
 "cells": [
  {
   "cell_type": "markdown",
   "source": [
    "# Stack Data Structure"
   ],
   "metadata": {
    "collapsed": false
   }
  },
  {
   "cell_type": "markdown",
   "source": [
    "The **stack** data structure is identical, in concept, to a physical stack of objects. When you add an item to a stack, you place it on top of the stack. When you remove an item from a stack, you always remove the top-most item.\n",
    "\n",
    "There are only two essential operations for a stack:\n",
    "\n",
    "- `push`: Adding an element to the top of the stack.\n",
    "- `pop`: Removing the top element of the stack.\n",
    "\n",
    "Stack us known as the **LIFO**(last-in first-out) data structure."
   ],
   "metadata": {
    "collapsed": false
   }
  },
  {
   "cell_type": "code",
   "execution_count": 1,
   "outputs": [],
   "source": [
    "interface Stack<T: Any> {\n",
    "    fun push(element: T)\n",
    "    fun pop(): T?\n",
    "}"
   ],
   "metadata": {
    "collapsed": false,
    "ExecuteTime": {
     "end_time": "2023-08-11T17:23:54.733976Z",
     "start_time": "2023-08-11T17:23:54.668197Z"
    }
   }
  },
  {
   "cell_type": "markdown",
   "source": [
    "The ArrayList is a good choose as storage type of out Stack implementation because it offers constant time insertions and deletions at one end via `add` and `removeAt` with the last index as a parameter."
   ],
   "metadata": {
    "collapsed": false
   }
  },
  {
   "cell_type": "code",
   "execution_count": 3,
   "outputs": [],
   "source": [
    "class StackImpl<T: Any> : Stack<T> {\n",
    "    private val storage = arrayListOf<T>()\n",
    "\n",
    "    override fun toString(): String = buildString {\n",
    "        appendLine(\"----top----\")\n",
    "        storage.asReversed().forEach {\n",
    "            appendLine(it.toString())\n",
    "        }\n",
    "        appendLine(\"-----------\")\n",
    "    }\n",
    "\n",
    "    override fun push(element: T) {\n",
    "        storage.add(element)\n",
    "    }\n",
    "\n",
    "    override fun pop(): T? {\n",
    "        return if (storage.size == 0) null\n",
    "        else storage.removeAt(storage.size - 1)\n",
    "    }\n",
    "}"
   ],
   "metadata": {
    "collapsed": false,
    "ExecuteTime": {
     "end_time": "2023-08-11T17:32:10.317840Z",
     "start_time": "2023-08-11T17:32:10.196872Z"
    }
   }
  },
  {
   "cell_type": "code",
   "execution_count": 5,
   "outputs": [
    {
     "name": "stdout",
     "output_type": "stream",
     "text": [
      "Using a stack:\n",
      "----top----\n",
      "4\n",
      "3\n",
      "2\n",
      "1\n",
      "-----------\n",
      "Popped: 4\n",
      "----top----\n",
      "3\n",
      "2\n",
      "1\n",
      "-----------\n"
     ]
    }
   ],
   "source": [
    "println(\"Using a stack:\")\n",
    "val stack = StackImpl<Int>().apply { \n",
    "    push(1)\n",
    "    push(2)\n",
    "    push(3)\n",
    "    push(4)\n",
    " }\n",
    " print(stack)\n",
    " val poppedElement = stack.pop()\n",
    " println(\"Popped: $poppedElement\")\n",
    " print(stack)"
   ],
   "metadata": {
    "collapsed": false,
    "ExecuteTime": {
     "end_time": "2023-08-11T17:35:08.723587Z",
     "start_time": "2023-08-11T17:35:08.599901Z"
    }
   }
  },
  {
   "cell_type": "markdown",
   "source": [
    "`push` and `pop` both have an **O(1)** time complexity."
   ],
   "metadata": {
    "collapsed": false
   }
  },
  {
   "cell_type": "markdown",
   "source": [
    "## Non-essential operations\n",
    "\n",
    "`peek` is an operation to look at the top element of the stack without mutating its contents.\n",
    "`count` property returns the number of element in the `Stack`and it's used to implement the `isEmpty` property."
   ],
   "metadata": {
    "collapsed": false
   }
  },
  {
   "cell_type": "code",
   "execution_count": 9,
   "outputs": [],
   "source": [
    "interface Stack<T: Any> {\n",
    "    val count: Int\n",
    "        get\n",
    "    val isEmpty: Boolean\n",
    "        get() = count == 0\n",
    "    fun peek(): T?\n",
    "    fun push(element: T)\n",
    "    fun pop(): T?\n",
    "}\n",
    "\n",
    "class StackImpl<T: Any>: Stack<T> {\n",
    "    private val storage = arrayListOf<T>()\n",
    "\n",
    "    override val count: Int\n",
    "        get() = storage.size\n",
    "\n",
    "    override fun peek(): T? {\n",
    "        return storage.lastOrNull()\n",
    "    }\n",
    "    \n",
    "    override fun pop(): T? {\n",
    "        return if (isEmpty) null\n",
    "        else storage.removeAt(storage.size - 1)\n",
    "    }\n",
    "\n",
    "    override fun toString(): String = buildString {\n",
    "        appendLine(\"----top----\")\n",
    "        storage.asReversed().forEach {\n",
    "            appendLine(it.toString())\n",
    "        }\n",
    "        appendLine(\"-----------\")\n",
    "    }\n",
    "\n",
    "    override fun push(element: T) {\n",
    "        storage.add(element)\n",
    "    }\n",
    "    \n",
    "    companion object {\n",
    "        // Trip: emtpy compation object to can add Companion extention functions later\n",
    "    }\n",
    "}"
   ],
   "metadata": {
    "collapsed": false,
    "ExecuteTime": {
     "end_time": "2023-08-11T18:37:52.949985Z",
     "start_time": "2023-08-11T18:37:52.821968Z"
    }
   }
  },
  {
   "cell_type": "markdown",
   "source": [
    "Convert a list to a stack:"
   ],
   "metadata": {
    "collapsed": false
   }
  },
  {
   "cell_type": "code",
   "execution_count": 10,
   "outputs": [],
   "source": [
    "fun <T: Any> StackImpl.Companion.create(items: Iterable<T>): Stack<T> {\n",
    "    val stack = StackImpl<T>()\n",
    "    for (item in items) {\n",
    "        stack.push(item)\n",
    "    }\n",
    "    return stack\n",
    "}"
   ],
   "metadata": {
    "collapsed": false,
    "ExecuteTime": {
     "end_time": "2023-08-11T18:39:29.829568Z",
     "start_time": "2023-08-11T18:39:29.763240Z"
    }
   }
  },
  {
   "cell_type": "code",
   "execution_count": 11,
   "outputs": [
    {
     "name": "stdout",
     "output_type": "stream",
     "text": [
      "Initializing a stack from a list\n",
      "----top----\n",
      "D\n",
      "C\n",
      "B\n",
      "A\n",
      "-----------\n",
      "Popped: D\n"
     ]
    }
   ],
   "source": [
    "println(\"Initializing a stack from a list\")\n",
    "val list = listOf(\"A\",\"B\",\"C\",\"D\")\n",
    "val stack = StackImpl.create(list)\n",
    "print(stack)\n",
    "println(\"Popped: ${stack.pop()}\")"
   ],
   "metadata": {
    "collapsed": false,
    "ExecuteTime": {
     "end_time": "2023-08-11T18:45:08.825099Z",
     "start_time": "2023-08-11T18:45:08.743994Z"
    }
   }
  },
  {
   "cell_type": "markdown",
   "source": [
    "Make a top-level function to init a stack by listing its elements, similar to `listOf`. "
   ],
   "metadata": {
    "collapsed": false
   }
  },
  {
   "cell_type": "code",
   "execution_count": 12,
   "outputs": [],
   "source": [
    "fun <T: Any> stackOf(vararg elements: T): Stack<T> {\n",
    "    return StackImpl.create(elements.asList())\n",
    "}"
   ],
   "metadata": {
    "collapsed": false,
    "ExecuteTime": {
     "end_time": "2023-08-11T18:57:35.230109Z",
     "start_time": "2023-08-11T18:57:35.150203Z"
    }
   }
  },
  {
   "cell_type": "code",
   "execution_count": 13,
   "outputs": [
    {
     "name": "stdout",
     "output_type": "stream",
     "text": [
      "initializing a stack from an array literal\n",
      "----top----\n",
      "4.0\n",
      "3.0\n",
      "2.0\n",
      "1.0\n",
      "-----------\n",
      "Popped: 4.0\n"
     ]
    }
   ],
   "source": [
    "println(\"initializing a stack from an array literal\")\n",
    "val stack = stackOf(1.0, 2.0, 3.0, 4.0)\n",
    "print(stack)\n",
    "println(\"Popped: ${stack.pop()}\")"
   ],
   "metadata": {
    "collapsed": false,
    "ExecuteTime": {
     "end_time": "2023-08-11T18:58:02.312136Z",
     "start_time": "2023-08-11T18:58:02.239934Z"
    }
   }
  },
  {
   "cell_type": "markdown",
   "source": [
    "# Challenges"
   ],
   "metadata": {
    "collapsed": false
   }
  },
  {
   "cell_type": "markdown",
   "source": [
    "## Challenge 1: Reverse a LinkedList\n",
    "\n",
    "Given a linked list, print the nodes in reverse order. You should not use recursion to solve this problem."
   ],
   "metadata": {
    "collapsed": false
   }
  },
  {
   "cell_type": "code",
   "execution_count": 17,
   "outputs": [],
   "source": [
    "data class Node<T : Any>(\n",
    "    var value: T,\n",
    "    var next: Node<T>? = null\n",
    ") {\n",
    "    override fun toString(): String {\n",
    "        return if (next == null) \"$value\"\n",
    "        else \"$value -> ${next.toString()}\"\n",
    "    }\n",
    "}\n",
    "\n",
    "class LinkedList<T : Any> {\n",
    "    private var head: Node<T>? = null\n",
    "\n",
    "    private var tail: Node<T>? = null\n",
    "\n",
    "    private var size = 0\n",
    "\n",
    "    fun isEmpty(): Boolean = size == 0\n",
    "\n",
    "    fun push(value: T): LinkedList<T> = apply {\n",
    "        head = Node(value = value, next = head)\n",
    "        if (null == tail) tail = head\n",
    "        size++\n",
    "    }\n",
    "\n",
    "    fun append(value: T): LinkedList<T> = apply {\n",
    "        if (isEmpty()) {\n",
    "            push(value)\n",
    "            return@apply\n",
    "        }\n",
    "        val newNode = Node(value = value)\n",
    "        tail?.next = newNode\n",
    "        tail = newNode\n",
    "        size++\n",
    "    }\n",
    "\n",
    "    fun nodeAt(index: Int): Node<T>? {\n",
    "        // 1\n",
    "        var currentNode = head\n",
    "        var currentIndex = 0\n",
    "\n",
    "        // 2\n",
    "        while (currentNode != null && currentIndex < index) {\n",
    "            currentNode = currentNode.next\n",
    "            currentIndex++\n",
    "        }\n",
    "        return currentNode\n",
    "    }\n",
    "\n",
    "    fun pop(): T? {\n",
    "        if (isEmpty()) return null\n",
    "        // 1\n",
    "        val result = head?.value\n",
    "        // 2\n",
    "        head = head?.next\n",
    "        size--\n",
    "        // 3\n",
    "        if (isEmpty()) tail = null\n",
    "        return result\n",
    "    }\n",
    "\n",
    "    fun removeLast(): T? {\n",
    "        // 1\n",
    "        val head = head ?: return null\n",
    "        // 2\n",
    "        if (head.next == null) return pop()\n",
    "        // 3\n",
    "        size--\n",
    "\n",
    "        // 4\n",
    "        var prev = head\n",
    "        var current = head\n",
    "        var next = current.next\n",
    "        while (next != null) {\n",
    "            prev = current\n",
    "            current = next\n",
    "            next = current.next\n",
    "        }\n",
    "        // 5\n",
    "        prev.next = null\n",
    "        tail = prev\n",
    "        return current.value\n",
    "    }\n",
    "\n",
    "    fun removeAfter(node: Node<T>): T? {\n",
    "        val result = node.next?.value\n",
    "\n",
    "        if (node.next == tail) {\n",
    "            tail = node\n",
    "        }\n",
    "        if (node.next != null) {\n",
    "            size--\n",
    "        }\n",
    "        node.next = node.next?.next\n",
    "        return result\n",
    "    }\n",
    "\n",
    "    override fun toString(): String {\n",
    "        return if (isEmpty()) \"EMPTY list\"\n",
    "        else head.toString()\n",
    "    }\n",
    "}\n"
   ],
   "metadata": {
    "collapsed": false,
    "ExecuteTime": {
     "end_time": "2023-08-11T19:27:04.503207Z",
     "start_time": "2023-08-11T19:27:04.368059Z"
    }
   }
  },
  {
   "cell_type": "markdown",
   "source": [
    "My solution:"
   ],
   "metadata": {
    "collapsed": false
   }
  },
  {
   "cell_type": "code",
   "execution_count": 19,
   "outputs": [
    {
     "name": "stdout",
     "output_type": "stream",
     "text": [
      "1 -> 2 -> 3 -> 4\n",
      "4 -> 3 -> 2 -> 1"
     ]
    }
   ],
   "source": [
    "fun <T : Any> LinkedList<T>.printInReverse() {\n",
    "    val stack = StackImpl<T>()\n",
    "    if (isEmpty()) {\n",
    "        println(\"EMPTY\")\n",
    "        return\n",
    "    }\n",
    "    var current = this.nodeAt(0)\n",
    "    while (current != null) {\n",
    "        stack.push(current.value)\n",
    "        current = current.next\n",
    "    }\n",
    "    while (!stack.isEmpty) {\n",
    "        print(stack.pop())\n",
    "        if (!stack.isEmpty) print(\" -> \")\n",
    "    }\n",
    "}\n",
    "\n",
    "val list = LinkedList<Int>().append(1).append(2).append(3).append(4)\n",
    "println(list)\n",
    "list.printInReverse()\n"
   ],
   "metadata": {
    "collapsed": false,
    "ExecuteTime": {
     "end_time": "2023-08-11T19:28:00.011304Z",
     "start_time": "2023-08-11T19:27:59.951285Z"
    }
   }
  },
  {
   "cell_type": "markdown",
   "source": [
    "The time complexity of pushing the nodes into the stack is **O(n)**. The time complexity of popping the stack to print the values is also **O(n)**. Overall, the time complexity of this algorithm is **O(n)**.\n",
    "\n",
    "Since you're allocating a container (the stack) inside the function, you also incur an **O(n)** space complexity cost."
   ],
   "metadata": {
    "collapsed": false
   }
  },
  {
   "cell_type": "markdown",
   "source": [
    "## Challenge 2: The parentheses validation\n",
    "\n",
    "Given a string, check if there are `(`and `)` characters, and return `true` if the parentheses in the string are balanced."
   ],
   "metadata": {
    "collapsed": false
   }
  },
  {
   "cell_type": "code",
   "execution_count": 20,
   "outputs": [
    {
     "name": "stdout",
     "output_type": "stream",
     "text": [
      "true\n",
      "false\n"
     ]
    }
   ],
   "source": [
    "fun parenthesesValidation(sentence: String): Boolean {\n",
    "    val stack = StackImpl<Char>()\n",
    "    sentence.toList().forEach {\n",
    "        if (it == '(') stack.push(it)\n",
    "        else if (it == ')') {\n",
    "            if (stack.isEmpty) return false\n",
    "            stack.pop()\n",
    "        }\n",
    "    }\n",
    "    return stack.isEmpty\n",
    "}\n",
    "\n",
    "val s1 = \"h((e))llo(world)()\"\n",
    "val s2 = \"(hello world\"\n",
    "println(parenthesesValidation(s1))\n",
    "println(parenthesesValidation(s2))"
   ],
   "metadata": {
    "collapsed": false,
    "ExecuteTime": {
     "end_time": "2023-08-11T19:42:18.618880Z",
     "start_time": "2023-08-11T19:42:18.543527Z"
    }
   }
  },
  {
   "cell_type": "markdown",
   "source": [
    "Book Solution:"
   ],
   "metadata": {
    "collapsed": false
   }
  },
  {
   "cell_type": "code",
   "execution_count": 22,
   "outputs": [
    {
     "name": "stdout",
     "output_type": "stream",
     "text": [
      "true\n",
      "false\n"
     ]
    }
   ],
   "source": [
    "fun String.checkParentheses(): Boolean {\n",
    "    val stack = StackImpl<Char>()\n",
    "    for (character in this) {\n",
    "        when (character) {\n",
    "            '(' -> stack.push(character)\n",
    "            ')' -> {\n",
    "                if (stack.isEmpty) return false\n",
    "                else stack.pop()\n",
    "            }\n",
    "        }\n",
    "    }\n",
    "    return stack.isEmpty\n",
    "}\n",
    "\n",
    "val s1 = \"h((e))llo(world)()\"\n",
    "val s2 = \"(hello world\"\n",
    "println(s1.checkParentheses())\n",
    "println(s2.checkParentheses())"
   ],
   "metadata": {
    "collapsed": false,
    "ExecuteTime": {
     "end_time": "2023-08-11T19:46:10.133093Z",
     "start_time": "2023-08-11T19:46:10.074633Z"
    }
   }
  },
  {
   "cell_type": "markdown",
   "source": [
    "The time complexity of this algorithm is **O(n)**, where n is the number of characters in the string.\n",
    "The space complexity is also **O(n)** due the usage of the `Stack` structure. "
   ],
   "metadata": {
    "collapsed": false
   }
  }
 ],
 "metadata": {
  "kernelspec": {
   "display_name": "Kotlin",
   "language": "kotlin",
   "name": "kotlin"
  },
  "language_info": {
   "name": "kotlin",
   "version": "1.8.20",
   "mimetype": "text/x-kotlin",
   "file_extension": ".kt",
   "pygments_lexer": "kotlin",
   "codemirror_mode": "text/x-kotlin",
   "nbconvert_exporter": ""
  }
 },
 "nbformat": 4,
 "nbformat_minor": 0
}
