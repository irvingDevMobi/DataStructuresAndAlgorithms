{
 "cells": [
  {
   "cell_type": "code",
   "execution_count": 1,
   "metadata": {
    "collapsed": true,
    "ExecuteTime": {
     "end_time": "2023-10-10T21:29:21.893098Z",
     "start_time": "2023-10-10T21:29:21.391842Z"
    }
   },
   "outputs": [
    {
     "name": "stdout",
     "output_type": "stream",
     "text": [
      " ┌──null\n",
      "┌──9\n",
      "| └──8\n",
      "7\n",
      "| ┌──5\n",
      "└──1\n",
      " └──0\n"
     ]
    }
   ],
   "source": [
    "typealias Visitor<T> = (T) -> Unit\n",
    "\n",
    "class BinaryNode<T : Any>(var value: T) {\n",
    "    var leftChild: BinaryNode<T>? = null\n",
    "    var rightChild: BinaryNode<T>? = null\n",
    "\n",
    "    override fun toString(): String = diagram(this)\n",
    "    \n",
    "    private fun diagram(\n",
    "        node: BinaryNode<T>?,\n",
    "        top: String = \"\",\n",
    "        root: String = \"\",\n",
    "        bottom: String = \"\"\n",
    "    ): String = node?.let { \n",
    "        if (node.leftChild == null && node.rightChild == null) {\n",
    "            \"$root${node.value}\\n\"\n",
    "        } else {\n",
    "            diagram(node.rightChild, \"$top \", \"$top┌──\", \"$top| \") + \n",
    "            root + \"${node.value}\\n\" + diagram(node.leftChild, \"$bottom| \", \"$bottom└──\", \"$bottom \")\n",
    "        }\n",
    "     } ?: \"${root}null\\n\"\n",
    "}\n",
    "\n",
    "fun createTree(): BinaryNode<Int> {\n",
    "    val zero = BinaryNode(0)\n",
    "    val one = BinaryNode(1)\n",
    "    val five = BinaryNode(5)\n",
    "    val seven = BinaryNode(7)\n",
    "    val eight = BinaryNode(8)\n",
    "    val nine = BinaryNode(9)\n",
    "\n",
    "    seven.leftChild = one\n",
    "    one.leftChild = zero\n",
    "    one.rightChild = five\n",
    "    seven.rightChild = nine\n",
    "    nine.leftChild = eight\n",
    "    return seven\n",
    "}\n",
    "\n",
    "val tree = createTree()\n",
    "println(tree)\n"
   ]
  },
  {
   "cell_type": "markdown",
   "source": [
    "# Traversal algorithms\n",
    "\n",
    "## In-order traversal\n",
    "\n",
    "- Start from the root node\n",
    "- If the current node has a left child, recursively visit this child first.\n",
    "- Then visit the node itself.\n",
    "- If the current node has a right child, recursively visit this child.\n",
    "\n",
    "![In-order traversal](in-order_traversal.png)\n",
    "\n",
    "0,1,5,7,8,9"
   ],
   "metadata": {
    "collapsed": false
   }
  },
  {
   "cell_type": "code",
   "execution_count": 2,
   "outputs": [],
   "source": [
    "fun <T: Any> BinaryNode<T>.traverseInOrder(visit: Visitor<T>) {\n",
    "    leftChild?.traverseInOrder(visit)\n",
    "    visit(value)\n",
    "    rightChild?.traverseInOrder(visit)\n",
    "}"
   ],
   "metadata": {
    "collapsed": false,
    "ExecuteTime": {
     "end_time": "2023-10-10T21:29:21.994975Z",
     "start_time": "2023-10-10T21:29:21.891228Z"
    }
   }
  },
  {
   "cell_type": "markdown",
   "source": [
    "You first traverse to the left-most node before visiting the value. You then traverse to the right-most node."
   ],
   "metadata": {
    "collapsed": false
   }
  },
  {
   "cell_type": "code",
   "execution_count": 3,
   "outputs": [
    {
     "name": "stdout",
     "output_type": "stream",
     "text": [
      "0\n",
      "1\n",
      "5\n",
      "7\n",
      "8\n",
      "9\n"
     ]
    }
   ],
   "source": [
    "tree.traverseInOrder { println(it) }"
   ],
   "metadata": {
    "collapsed": false,
    "ExecuteTime": {
     "end_time": "2023-10-10T21:29:22.030566Z",
     "start_time": "2023-10-10T21:29:21.968902Z"
    }
   }
  },
  {
   "cell_type": "markdown",
   "source": [
    "## Pre-order traversal\n",
    "\n",
    "- Visits the current node first.\n",
    "- Recursively visits the left end right child.\n",
    "\n",
    "![Pre-order traversal](pre-order_traversal.png)"
   ],
   "metadata": {
    "collapsed": false
   }
  },
  {
   "cell_type": "code",
   "execution_count": 4,
   "outputs": [
    {
     "name": "stdout",
     "output_type": "stream",
     "text": [
      "7\n",
      "1\n",
      "0\n",
      "5\n",
      "9\n",
      "8\n"
     ]
    }
   ],
   "source": [
    "fun <T: Any> BinaryNode<T>.traversePreOrder(visit: Visitor<T>) {\n",
    "    visit(value)\n",
    "    leftChild?.traversePreOrder(visit)\n",
    "    rightChild?.traversePreOrder(visit)\n",
    "}\n",
    "\n",
    "tree.traversePreOrder { println(it) }"
   ],
   "metadata": {
    "collapsed": false,
    "ExecuteTime": {
     "end_time": "2023-10-10T21:29:22.090395Z",
     "start_time": "2023-10-10T21:29:22.027109Z"
    }
   }
  },
  {
   "cell_type": "markdown",
   "source": [
    "## Post-order traversal\n",
    "\n",
    "Post-order traversal always visits the nodes of a binary tree in the following order:\n",
    "- Recursively visits the left and right child.\n",
    "- Only visits the current node after the left and right child have been visited recursively.\n",
    "\n",
    "![Post-order traversal](post-order_traversal.png)\n",
    "\n",
    "In other words, given any node, you'll visit its children before visiting itself. The root node is always visited last."
   ],
   "metadata": {
    "collapsed": false
   }
  },
  {
   "cell_type": "code",
   "execution_count": 5,
   "outputs": [
    {
     "name": "stdout",
     "output_type": "stream",
     "text": [
      "0\n",
      "5\n",
      "1\n",
      "8\n",
      "9\n",
      "7\n"
     ]
    }
   ],
   "source": [
    "fun <T: Any> BinaryNode<T>.traversePostOrder(visit: Visitor<T>) {\n",
    "    leftChild?.traversePostOrder(visit)\n",
    "    rightChild?.traversePostOrder(visit)\n",
    "    visit(value)\n",
    "}\n",
    "\n",
    "tree.traversePostOrder { println(it) }"
   ],
   "metadata": {
    "collapsed": false,
    "ExecuteTime": {
     "end_time": "2023-10-10T21:29:22.151895Z",
     "start_time": "2023-10-10T21:29:22.089315Z"
    }
   }
  },
  {
   "cell_type": "markdown",
   "source": [
    "Each one of these traversal algorithms has both a ime and space complexity of **O(n)**."
   ],
   "metadata": {
    "collapsed": false
   }
  },
  {
   "cell_type": "markdown",
   "source": [
    "# Challenges\n",
    "\n",
    "## Challenge 1: The height of the tree\n",
    "\n",
    "Given a binary tree, find the height of the tree. The height of the binary tree is determined by the distance between the root and the furthest leaf."
   ],
   "metadata": {
    "collapsed": false
   }
  },
  {
   "cell_type": "code",
   "execution_count": 6,
   "outputs": [
    {
     "name": "stdout",
     "output_type": "stream",
     "text": [
      "Depth: 2\n"
     ]
    }
   ],
   "source": [
    "fun <T : Any> BinaryNode<T>.getHeight(\n",
    "    myLevel: Int = 0\n",
    "): Int {\n",
    "    val leftDepth = leftChild?.getHeight(myLevel + 1) ?: myLevel\n",
    "    val rightDepth = rightChild?.getHeight(myLevel + 1) ?: myLevel\n",
    "    return if (leftDepth > rightDepth) leftDepth else rightDepth\n",
    "}\n",
    "\n",
    "println(\"Depth: ${tree.getHeight()}\")"
   ],
   "metadata": {
    "collapsed": false,
    "ExecuteTime": {
     "end_time": "2023-10-10T21:29:22.225447Z",
     "start_time": "2023-10-10T21:29:22.150379Z"
    }
   }
  },
  {
   "cell_type": "code",
   "execution_count": 7,
   "outputs": [
    {
     "name": "stdout",
     "output_type": "stream",
     "text": [
      " ┌──null\n",
      "┌──9\n",
      "| | ┌──null\n",
      "| └──8\n",
      "|  | ┌──3\n",
      "|  └──2\n",
      "|   └──null\n",
      "7\n",
      "| ┌──5\n",
      "└──1\n",
      " └──0\n",
      "\n",
      "T2 Deepth: 4\n"
     ]
    }
   ],
   "source": [
    "fun createTree2(): BinaryNode<Int> {\n",
    "    val zero = BinaryNode(0)\n",
    "    val one = BinaryNode(1)\n",
    "    val two = BinaryNode(2)\n",
    "    val three = BinaryNode(3)\n",
    "    val five = BinaryNode(5)\n",
    "    val seven = BinaryNode(7)\n",
    "    val eight = BinaryNode(8)\n",
    "    val nine = BinaryNode(9)\n",
    "\n",
    "    seven.leftChild = one\n",
    "    one.leftChild = zero\n",
    "    one.rightChild = five\n",
    "    seven.rightChild = nine\n",
    "    nine.leftChild = eight\n",
    "    eight.leftChild = two\n",
    "    two.rightChild = three\n",
    "    return seven\n",
    "}\n",
    "\n",
    "val tree2 = createTree2()\n",
    "println(tree2)\n",
    "println(\"T2 Deepth: ${tree2.getHeight()}\")\n"
   ],
   "metadata": {
    "collapsed": false,
    "ExecuteTime": {
     "end_time": "2023-10-10T21:29:22.305437Z",
     "start_time": "2023-10-10T21:29:22.224029Z"
    }
   }
  },
  {
   "cell_type": "code",
   "execution_count": 8,
   "outputs": [
    {
     "name": "stdout",
     "output_type": "stream",
     "text": [
      "0\n",
      "\n",
      "Depth: 0\n"
     ]
    }
   ],
   "source": [
    "val oneNodeTree = BinaryNode(0)\n",
    "println(oneNodeTree)\n",
    "println(\"Depth: ${oneNodeTree.getHeight()}\")"
   ],
   "metadata": {
    "collapsed": false,
    "ExecuteTime": {
     "end_time": "2023-10-10T21:29:22.352521Z",
     "start_time": "2023-10-10T21:29:22.302872Z"
    }
   }
  },
  {
   "cell_type": "markdown",
   "source": [
    "## Book Solution:"
   ],
   "metadata": {
    "collapsed": false
   }
  },
  {
   "cell_type": "code",
   "execution_count": 9,
   "outputs": [
    {
     "name": "stdout",
     "output_type": "stream",
     "text": [
      "Deepth T1: 2\n",
      "Deepth T2: 4\n",
      "Deepth T0: 0\n"
     ]
    }
   ],
   "source": [
    "fun <T:Any> BinaryNode<T>.heigh(node: BinaryNode<T>? = this): Int {\n",
    "    return node?.let { \n",
    "        1 + max(heigh(node.leftChild), heigh(node.rightChild))\n",
    "     } ?: -1\n",
    "}\n",
    "\n",
    "println(\"Deepth T1: ${tree.heigh() }\")\n",
    "println(\"Deepth T2: ${tree2.heigh() }\")\n",
    "println(\"Deepth T0: ${oneNodeTree.heigh() }\")"
   ],
   "metadata": {
    "collapsed": false,
    "ExecuteTime": {
     "end_time": "2023-10-10T21:29:22.456614Z",
     "start_time": "2023-10-10T21:29:22.350888Z"
    }
   }
  },
  {
   "cell_type": "markdown",
   "source": [
    "## Challenge 2: Serialization of a Binary Tree"
   ],
   "metadata": {
    "collapsed": false
   }
  },
  {
   "cell_type": "code",
   "execution_count": 22,
   "outputs": [
    {
     "name": "stdout",
     "output_type": "stream",
     "text": [
      " ┌──null\n",
      "┌──9\n",
      "| └──8\n",
      "7\n",
      "| ┌──5\n",
      "└──1\n",
      " └──0\n",
      "\n",
      "[7, 1, 0, null, null, 5, null, null, 9, 8, null, null, null]\n",
      " ┌──null\n",
      "┌──9\n",
      "| └──8\n",
      "7\n",
      "| ┌──5\n",
      "└──1\n",
      " └──0\n"
     ]
    }
   ],
   "source": [
    "import java.lang.IllegalArgumentException\n",
    "\n",
    "fun addItemSerilized(node: BinaryNode<Int>, data: MutableList<String>) {\n",
    "    data.add(node.value.toString())\n",
    "    node.leftChild?.let {\n",
    "        addItemSerilized(it, data)\n",
    "    } ?: run { data.add(\"null\") }\n",
    "    node.rightChild?.let {\n",
    "        addItemSerilized(it, data)\n",
    "    } ?: run { data.add(\"null\") }\n",
    "}\n",
    "\n",
    "fun serialize(rootNode: BinaryNode<Int>): String {\n",
    "    val data = mutableListOf<String>()\n",
    "    addItemSerilized(rootNode, data)\n",
    "    return data.toString()\n",
    "}\n",
    "\n",
    "fun deserialize(data: String): BinaryNode<Int>? {\n",
    "    if (data.isBlank()) return null\n",
    "    val cleanDataString = data.substring(1, data.length - 1) \n",
    "    val values = cleanDataString.split(\",\").toMutableList()\n",
    "    if (values.isEmpty()) return null\n",
    "\n",
    "    val rootValue = values.removeFirst().toIntOrNull() ?: return null\n",
    "    val rootNode = BinaryNode(rootValue)\n",
    "    addChildren(rootNode, values)\n",
    "    return rootNode\n",
    "}\n",
    "\n",
    "fun addChildren(node: BinaryNode<Int>, values: MutableList<String>) {\n",
    "    if (values.isEmpty()) return\n",
    "\n",
    "    values.removeFirst().trim().toIntOrNull()?.let { leftValue ->\n",
    "        //println(\"leftValue: $leftValue\")\n",
    "        val leftNode = BinaryNode(leftValue)\n",
    "        node.leftChild = leftNode\n",
    "        addChildren(leftNode, values)\n",
    "    }\n",
    "    if (values.isEmpty()) return\n",
    "    values.removeFirst().trim().toIntOrNull()?.let { rightValue ->\n",
    "        //println(\"rightValue $rightValue\")\n",
    "        val rightNode = BinaryNode(rightValue)\n",
    "        node.rightChild = rightNode\n",
    "        addChildren(rightNode, values)\n",
    "    }\n",
    "}\n",
    "\n",
    "\n",
    "println(tree)\n",
    "val treeSeriliazed = serialize(tree) \n",
    "println(treeSeriliazed)\n",
    "val deserializedTree = deserialize(treeSeriliazed)\n",
    "println(deserializedTree)"
   ],
   "metadata": {
    "collapsed": false,
    "ExecuteTime": {
     "end_time": "2023-10-10T22:30:46.456159Z",
     "start_time": "2023-10-10T22:30:46.201599Z"
    }
   }
  },
  {
   "cell_type": "code",
   "execution_count": 23,
   "outputs": [
    {
     "name": "stdout",
     "output_type": "stream",
     "text": [
      " ┌──null\n",
      "┌──9\n",
      "| | ┌──null\n",
      "| └──8\n",
      "|  | ┌──3\n",
      "|  └──2\n",
      "|   └──null\n",
      "7\n",
      "| ┌──5\n",
      "└──1\n",
      " └──0\n",
      "\n",
      "[7, 1, 0, null, null, 5, null, null, 9, 8, 2, null, 3, null, null, null, null]\n",
      " ┌──null\n",
      "┌──9\n",
      "| | ┌──null\n",
      "| └──8\n",
      "|  | ┌──3\n",
      "|  └──2\n",
      "|   └──null\n",
      "7\n",
      "| ┌──5\n",
      "└──1\n",
      " └──0\n"
     ]
    }
   ],
   "source": [
    "println(tree2)\n",
    "val tree2Seriliazed = serialize(tree2)\n",
    "println(tree2Seriliazed)\n",
    "val deserializedTree2 = deserialize(tree2Seriliazed)\n",
    "println(deserializedTree2)"
   ],
   "metadata": {
    "collapsed": false,
    "ExecuteTime": {
     "end_time": "2023-10-10T22:32:23.962101Z",
     "start_time": "2023-10-10T22:32:23.795965Z"
    }
   }
  }
 ],
 "metadata": {
  "kernelspec": {
   "display_name": "Kotlin",
   "language": "kotlin",
   "name": "kotlin"
  },
  "language_info": {
   "name": "kotlin",
   "version": "1.8.20",
   "mimetype": "text/x-kotlin",
   "file_extension": ".kt",
   "pygments_lexer": "kotlin",
   "codemirror_mode": "text/x-kotlin",
   "nbconvert_exporter": ""
  }
 },
 "nbformat": 4,
 "nbformat_minor": 0
}
