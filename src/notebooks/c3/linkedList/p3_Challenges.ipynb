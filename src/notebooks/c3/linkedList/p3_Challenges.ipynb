{
 "cells": [
  {
   "cell_type": "markdown",
   "source": [
    "Adding final classes to use in the Challenges"
   ],
   "metadata": {
    "collapsed": false
   }
  },
  {
   "cell_type": "code",
   "execution_count": 1,
   "outputs": [],
   "source": [
    "data class Node<T : Any>(\n",
    "    var value: T,\n",
    "    var next: Node<T>? = null\n",
    ") {\n",
    "    override fun toString(): String {\n",
    "        return if (next == null) \"$value\"\n",
    "        else \"$value -> ${next.toString()}\"\n",
    "    }\n",
    "}\n",
    "\n",
    "class LinkedList<T : Any> : MutableCollection<T> {\n",
    "    override var size = 0\n",
    "        private set\n",
    "    private var head: Node<T>? = null\n",
    "    private var tail: Node<T>? = null\n",
    "\n",
    "    override fun clear() {\n",
    "        head = null\n",
    "        tail = null\n",
    "        size = 0\n",
    "    }\n",
    "\n",
    "    override fun addAll(elements: Collection<T>): Boolean {\n",
    "        for (element in elements) {\n",
    "            append(element)\n",
    "        }\n",
    "        return true\n",
    "    }\n",
    "\n",
    "    override fun add(element: T): Boolean {\n",
    "        append(element)\n",
    "        return true\n",
    "    }\n",
    "\n",
    "    override fun iterator(): MutableIterator<T> {\n",
    "        return LinkedListIterator(this)\n",
    "    }\n",
    "\n",
    "    override fun retainAll(elements: Collection<T>): Boolean {\n",
    "        var result = false\n",
    "        val iterator = this.iterator()\n",
    "        while (iterator.hasNext()) {\n",
    "            val item = iterator.next()\n",
    "            if (!elements.contains(item)) {\n",
    "                iterator.remove()\n",
    "                result = true\n",
    "            }\n",
    "        }\n",
    "        return result\n",
    "    }\n",
    "\n",
    "    override fun removeAll(elements: Collection<T>): Boolean {\n",
    "        var result = false\n",
    "        for (element in elements) {\n",
    "            result = remove(element) || result\n",
    "        }\n",
    "        return result\n",
    "    }\n",
    "\n",
    "    override fun remove(element: T): Boolean {\n",
    "        val iterator = iterator()\n",
    "        while (iterator.hasNext()) {\n",
    "            val item = iterator.next()\n",
    "            // 3\n",
    "            if (item == element) {\n",
    "                iterator.remove()\n",
    "                return true\n",
    "            }\n",
    "        }\n",
    "        return false\n",
    "    }\n",
    "\n",
    "    override fun isEmpty(): Boolean = size == 0\n",
    "\n",
    "    override fun contains(element: T): Boolean {\n",
    "        for (item in this) {\n",
    "            if (item == element) return true\n",
    "        }\n",
    "        return false\n",
    "    }\n",
    "\n",
    "    override fun containsAll(elements: Collection<T>): Boolean {\n",
    "        for (searched in elements) {\n",
    "            if (!contains(searched)) return false\n",
    "        }\n",
    "        return true\n",
    "    }\n",
    "\n",
    "    override fun toString(): String {\n",
    "        return if (isEmpty()) \"EMPTY list\"\n",
    "        else head.toString()\n",
    "    }\n",
    "\n",
    "    fun append(value: T): LinkedList<T> = apply {\n",
    "        if (isEmpty()) {\n",
    "            push(value)\n",
    "            return@apply\n",
    "        }\n",
    "        val newNode = Node(value = value)\n",
    "        tail?.next = newNode\n",
    "        tail = newNode\n",
    "        size++\n",
    "    }\n",
    "\n",
    "    fun push(value: T): LinkedList<T> = apply {\n",
    "        head = Node(value = value, next = head)\n",
    "        if (null == tail) tail = head\n",
    "        size++\n",
    "    }\n",
    "\n",
    "    fun insert(value: T, afterNode: Node<T>): Node<T> {\n",
    "        if (tail == afterNode) {\n",
    "            append(value)\n",
    "            return tail!!\n",
    "        }\n",
    "        val newNode = Node(value = value, next = afterNode.next)\n",
    "        afterNode.next = newNode\n",
    "        size++\n",
    "        return newNode\n",
    "    }\n",
    "\n",
    "    fun pop(): T? {\n",
    "        if (isEmpty()) return null\n",
    "        val result = head?.value\n",
    "        head = head?.next\n",
    "        size--\n",
    "        if (isEmpty()) tail = null\n",
    "        return result\n",
    "    }\n",
    "\n",
    "    fun removeLast(): T? {\n",
    "        val head = head ?: return null\n",
    "        if (head.next == null) return pop()\n",
    "        size--\n",
    "\n",
    "        var prev = head\n",
    "        var current = head\n",
    "        var next = current.next\n",
    "        while (next != null) {\n",
    "            prev = current\n",
    "            current = next\n",
    "            next = current.next\n",
    "        }\n",
    "        prev.next = null\n",
    "        tail = prev\n",
    "        return current.value\n",
    "    }\n",
    "\n",
    "    fun removeAfter(node: Node<T>): T? {\n",
    "        val result = node.next?.value\n",
    "\n",
    "        if (node.next == tail) {\n",
    "            tail = node\n",
    "        }\n",
    "        if (node.next != null) {\n",
    "            size--\n",
    "        }\n",
    "        node.next = node.next?.next\n",
    "        return result\n",
    "    }\n",
    "\n",
    "    fun nodeAt(index: Int): Node<T>? {\n",
    "        var currentNode = head\n",
    "        var currentIndex = 0\n",
    "\n",
    "        while (currentNode != null && currentIndex < index) {\n",
    "            currentNode = currentNode.next\n",
    "            currentIndex++\n",
    "        }\n",
    "        return currentNode\n",
    "    }\n",
    "}\n",
    "\n",
    "class LinkedListIterator<T : Any>(\n",
    "    private val list: LinkedList<T>\n",
    ") : MutableIterator<T> {\n",
    "    private var index = 0\n",
    "    private var lastNode: Node<T>? = null\n",
    "\n",
    "    override fun hasNext(): Boolean {\n",
    "        return index < list.size\n",
    "    }\n",
    "\n",
    "    override fun next(): T {\n",
    "        if (index >= list.size) throw IndexOutOfBoundsException()\n",
    "        lastNode = if (index == 0) list.nodeAt(0) else lastNode?.next\n",
    "        index++\n",
    "        return lastNode!!.value\n",
    "    }\n",
    "\n",
    "    override fun remove() {\n",
    "        if (index == 1) {\n",
    "            list.pop()\n",
    "        } else {\n",
    "            val prevNode = list.nodeAt(index - 2) ?: return\n",
    "            list.removeAfter(prevNode)\n",
    "            lastNode = prevNode\n",
    "        }\n",
    "        index--\n",
    "    }\n",
    "}"
   ],
   "metadata": {
    "collapsed": false,
    "ExecuteTime": {
     "end_time": "2023-08-11T16:51:40.928609Z",
     "start_time": "2023-08-11T16:51:40.191034Z"
    }
   }
  },
  {
   "cell_type": "markdown",
   "source": [
    "## Challenge 1: Reverse a linked list\n",
    "Create an extension function that prints out the elements of a linked list in reverse order. Given a linked list, print the nodes in reverse order."
   ],
   "metadata": {
    "collapsed": false
   }
  },
  {
   "cell_type": "markdown",
   "source": [
    "My Solution:"
   ],
   "metadata": {
    "collapsed": false
   }
  },
  {
   "cell_type": "code",
   "execution_count": 2,
   "outputs": [
    {
     "name": "stdout",
     "output_type": "stream",
     "text": [
      "1 -> 2 -> 3 -> 4\n",
      "4 -> 3 -> 2 -> 1"
     ]
    }
   ],
   "source": [
    "fun <T: Any> LinkedList<T>.printInReverse() {\n",
    "    if (this.isEmpty()) {\n",
    "        println(\"EMPTY\")\n",
    "        return\n",
    "    }\n",
    "    for (i in this.size -1 downTo 0) {\n",
    "        print(this.nodeAt(i)?.value)\n",
    "        if (i != 0) print(\" -> \")\n",
    "    }\n",
    "}\n",
    "\n",
    "val list = LinkedList<Int>().append(1).append(2).append(3).append(4)\n",
    "println(list)\n",
    "list.printInReverse()"
   ],
   "metadata": {
    "collapsed": false,
    "ExecuteTime": {
     "end_time": "2023-08-11T16:51:41.039678Z",
     "start_time": "2023-08-11T16:51:40.926187Z"
    }
   }
  },
  {
   "cell_type": "markdown",
   "source": [
    "Book Solution:"
   ],
   "metadata": {
    "collapsed": false
   }
  },
  {
   "cell_type": "code",
   "execution_count": 3,
   "outputs": [
    {
     "name": "stdout",
     "output_type": "stream",
     "text": [
      "1 -> 2 -> 3 -> 4\n",
      "4 <- 3 <- 2 <- 1"
     ]
    }
   ],
   "source": [
    "fun <T: Any> LinkedList<T>.printInReverse() {\n",
    "    this.nodeAt(0)?.printInReverse()\n",
    "}\n",
    "\n",
    "fun <T: Any> Node<T>.printInReverse() {\n",
    "    this.next?.printInReverse()\n",
    "    if (this.next != null) {\n",
    "        print(\" <- \")\n",
    "    }\n",
    "    print(this.value.toString())\n",
    "}\n",
    "\n",
    "val list = LinkedList<Int>().append(1).append(2).append(3).append(4)\n",
    "println(list)\n",
    "list.printInReverse()"
   ],
   "metadata": {
    "collapsed": false,
    "ExecuteTime": {
     "end_time": "2023-08-11T16:51:41.111563Z",
     "start_time": "2023-08-11T16:51:41.038079Z"
    }
   }
  },
  {
   "cell_type": "markdown",
   "source": [
    "# Challenge 2: The item in the middle\n",
    "\n",
    "Given a linked list, find the middle node of the list."
   ],
   "metadata": {
    "collapsed": false
   }
  },
  {
   "cell_type": "markdown",
   "source": [
    "My solution:"
   ],
   "metadata": {
    "collapsed": false
   }
  },
  {
   "cell_type": "code",
   "execution_count": 4,
   "outputs": [
    {
     "name": "stdout",
     "output_type": "stream",
     "text": [
      "1 -> 2 -> 3 -> 4 -> 5\n",
      "Middle is: 3\n",
      "1 -> 2 -> 3 -> 4 -> 5 -> 6 -> 7 -> 8 -> 9 -> 10\n",
      "Middle is: 6\n"
     ]
    }
   ],
   "source": [
    "fun <T : Any> LinkedList<T>.getMiddleNode(): Node<T>? {\n",
    "    var normalIteration = this.nodeAt(0)\n",
    "    var doubleIteration = normalIteration?.next\n",
    "    while (doubleIteration != null) {\n",
    "        normalIteration = normalIteration?.next\n",
    "        doubleIteration = doubleIteration.next?.next\n",
    "    }\n",
    "    return normalIteration\n",
    "}\n",
    "\n",
    "val list = LinkedList<Int>().append(1).append(2).append(3).append(4).append(5)\n",
    "println(list)\n",
    "println(\"Middle is: ${list.getMiddleNode()?.value}\")\n",
    "\n",
    "val list2 = LinkedList<Int>().append(1).append(2).append(3).append(4).append(5)\n",
    ".append(6).append(7).append(8).append(9).append(10)\n",
    "println(list2)\n",
    "println(\"Middle is: ${list2.getMiddleNode()?.value}\")\n"
   ],
   "metadata": {
    "collapsed": false,
    "ExecuteTime": {
     "end_time": "2023-08-11T16:51:41.201776Z",
     "start_time": "2023-08-11T16:51:41.109705Z"
    }
   }
  },
  {
   "cell_type": "markdown",
   "source": [
    "# Challenge 3: Reverse a linked list"
   ],
   "metadata": {
    "collapsed": false
   }
  },
  {
   "cell_type": "markdown",
   "source": [
    "My solution:"
   ],
   "metadata": {
    "collapsed": false
   }
  },
  {
   "cell_type": "code",
   "execution_count": 5,
   "outputs": [
    {
     "name": "stdout",
     "output_type": "stream",
     "text": [
      "1 -> 2 -> 3 -> 4\n",
      "4 -> 3 -> 2 -> 1\n"
     ]
    }
   ],
   "source": [
    "fun <T: Any> Node<T>.reverse(newList: LinkedList<T>) {\n",
    "    this.next?.reverse(newList)    \n",
    "    newList.append(this.value)\n",
    "}\n",
    "\n",
    "fun <T: Any> LinkedList<T>.reverse() {\n",
    "    val newList = LinkedList<T>()\n",
    "    this.nodeAt(0)?.reverse(newList)\n",
    "    this.clear()\n",
    "    this.addAll(newList)\n",
    "}\n",
    "\n",
    "val list = LinkedList<Int>().append(1).append(2).append(3).append(4)\n",
    "println(list)\n",
    "list.reverse()\n",
    "println(list)\n"
   ],
   "metadata": {
    "collapsed": false,
    "ExecuteTime": {
     "end_time": "2023-08-11T16:51:41.262759Z",
     "start_time": "2023-08-11T16:51:41.198962Z"
    }
   }
  },
  {
   "cell_type": "markdown",
   "source": [
    "Book solution:"
   ],
   "metadata": {
    "collapsed": false
   }
  },
  {
   "cell_type": "code",
   "execution_count": 6,
   "outputs": [],
   "source": [
    "fun <T: Any> addInReverse(list: LinkedList<T>, node: Node<T>) {\n",
    "    // 1\n",
    "    val next = node.next\n",
    "    if (next != null) {\n",
    "        // 2\n",
    "        addInReverse(list, next)\n",
    "    }\n",
    "    // 3\n",
    "    list.append(node.value)\n",
    "}"
   ],
   "metadata": {
    "collapsed": false,
    "ExecuteTime": {
     "end_time": "2023-08-11T16:51:41.310690Z",
     "start_time": "2023-08-11T16:51:41.262293Z"
    }
   }
  },
  {
   "cell_type": "markdown",
   "source": [
    "1. Get the next node of the list, starting from the one you've received as a parameter.\n",
    "2. If there's a following node, recursively call the same function, now the starting node is the one after the current.\n",
    "3. when you reach the end, start adding the nodes in the reverse order"
   ],
   "metadata": {
    "collapsed": false
   }
  },
  {
   "cell_type": "code",
   "execution_count": 7,
   "outputs": [
    {
     "name": "stdout",
     "output_type": "stream",
     "text": [
      "Original: 3 -> 2 -> 1 -> 4 -> 5\n",
      "Reversed: 5 -> 4 -> 1 -> 2 -> 3\n"
     ]
    }
   ],
   "source": [
    "fun <T : Any> LinkedList<T>.reversed(): LinkedList<T> {\n",
    "    val result = LinkedList<T>()\n",
    "    val head = this.nodeAt(0)\n",
    "    if (head != null) {\n",
    "        addInReverse(result, head)\n",
    "    }\n",
    "    return result\n",
    "}\n",
    "\n",
    "val list = LinkedList<Int>()\n",
    "list.add(3)\n",
    "list.add(2)\n",
    "list.add(1)\n",
    "list.add(4)\n",
    "list.add(5)\n",
    "\n",
    "println(\"Original: $list\")\n",
    "println(\"Reversed: ${list.reversed()}\")"
   ],
   "metadata": {
    "collapsed": false,
    "ExecuteTime": {
     "end_time": "2023-08-11T16:51:41.359131Z",
     "start_time": "2023-08-11T16:51:41.297070Z"
    }
   }
  },
  {
   "cell_type": "markdown",
   "source": [
    "# Challenge 4: Merging two linked lists\n",
    "\n",
    "Create a function that takes two sorted linked lists and merges them into a single sorted linked list. "
   ],
   "metadata": {
    "collapsed": false
   }
  },
  {
   "cell_type": "markdown",
   "source": [
    "My solution:"
   ],
   "metadata": {
    "collapsed": false
   }
  },
  {
   "cell_type": "code",
   "execution_count": 8,
   "outputs": [
    {
     "name": "stdout",
     "output_type": "stream",
     "text": [
      "1 -> 3 -> 5 -> 7\n",
      "2 -> 4\n",
      "1 -> 2 -> 3 -> 4 -> 5 -> 7\n"
     ]
    }
   ],
   "source": [
    "fun <T: Comparable<T>> mergeSorted(listA: LinkedList<T>, listB: LinkedList<T>): LinkedList<T> {\n",
    "    val result = LinkedList<T>()\n",
    "    var iterations = listA.size + listB.size\n",
    "    var currentA = listA.nodeAt(0)\n",
    "    var currentB = listB.nodeAt(0)\n",
    "    while (iterations > 0) {\n",
    "        if (currentB != null && currentB.value <= currentA?.value ?: currentB.value) {\n",
    "            result.append(currentB.value)\n",
    "            currentB = currentB.next\n",
    "        } else if (currentA != null) {\n",
    "            result.append(currentA.value)\n",
    "            currentA = currentA.next\n",
    "        }\n",
    "        iterations--\n",
    "    }\n",
    "    return result\n",
    "}\n",
    "\n",
    "val listA = LinkedList<Int>().append(1).append(3).append(5).append(7)\n",
    "val listB = LinkedList<Int>().append(2).append(4)\n",
    "val result = mergeSorted(listA, listB)\n",
    "println(listA)\n",
    "println(listB)\n",
    "println(result)"
   ],
   "metadata": {
    "collapsed": false,
    "ExecuteTime": {
     "end_time": "2023-08-11T16:51:41.474607Z",
     "start_time": "2023-08-11T16:51:41.358910Z"
    }
   }
  },
  {
   "cell_type": "markdown",
   "source": [
    "Book Solution:"
   ],
   "metadata": {
    "collapsed": false
   }
  },
  {
   "cell_type": "code",
   "execution_count": 9,
   "outputs": [],
   "source": [
    "fun <T: Comparable<T>> append(\n",
    "    result: LinkedList<T>,\n",
    "    node: Node<T>\n",
    "): Node<T>? {\n",
    "    result.append(node.value)\n",
    "    return node.next\n",
    "}\n",
    "\n",
    "fun <T: Comparable<T>> LinkedList<T>.mergeSorted(\n",
    "    otherList: LinkedList<T>\n",
    "): LinkedList<T> {\n",
    "    if (this.isEmpty()) return otherList\n",
    "    if (otherList.isEmpty()) return this\n",
    "    \n",
    "    val result = LinkedList<T>()\n",
    "    // 1\n",
    "    var left = nodeAt(0)\n",
    "    var right = otherList.nodeAt(0)\n",
    "    // 2\n",
    "    while (left != null && right != null) {\n",
    "        // 3\n",
    "        if (left.value < right.value) {\n",
    "            left = append(result, left)\n",
    "        } else {\n",
    "            right = append(result, right)\n",
    "        }\n",
    "    }\n",
    "    // 4\n",
    "    while (left != null) {\n",
    "        left = append(result, left)\n",
    "    }\n",
    "    while (right != null) {\n",
    "        right = append(result, right)\n",
    "    }\n",
    "    return result\n",
    "}"
   ],
   "metadata": {
    "collapsed": false,
    "ExecuteTime": {
     "end_time": "2023-08-11T16:51:41.550823Z",
     "start_time": "2023-08-11T16:51:41.474188Z"
    }
   }
  },
  {
   "cell_type": "markdown",
   "source": [
    "1. You  start with the first node of each list\n",
    "2. The `while` loop continues until one of the lists reaches its end.\n",
    "3. You compare the first nodes `left` and `right` to append to the `result`.\n",
    "4. Add remaining nodes."
   ],
   "metadata": {
    "collapsed": false
   }
  },
  {
   "cell_type": "code",
   "execution_count": 10,
   "outputs": [
    {
     "name": "stdout",
     "output_type": "stream",
     "text": [
      "1 -> 3 -> 5 -> 7\n",
      "2 -> 4\n",
      "1 -> 2 -> 3 -> 4 -> 5 -> 7\n"
     ]
    }
   ],
   "source": [
    "val listA = LinkedList<Int>().append(1).append(3).append(5).append(7)\n",
    "val listB = LinkedList<Int>().append(2).append(4)\n",
    "val result = listA.mergeSorted(listB)\n",
    "println(listA)\n",
    "println(listB)\n",
    "println(result)"
   ],
   "metadata": {
    "collapsed": false,
    "ExecuteTime": {
     "end_time": "2023-08-11T16:53:58.701235Z",
     "start_time": "2023-08-11T16:53:58.645573Z"
    }
   }
  }
 ],
 "metadata": {
  "kernelspec": {
   "display_name": "Kotlin",
   "language": "kotlin",
   "name": "kotlin"
  },
  "language_info": {
   "name": "kotlin",
   "version": "1.8.20",
   "mimetype": "text/x-kotlin",
   "file_extension": ".kt",
   "pygments_lexer": "kotlin",
   "codemirror_mode": "text/x-kotlin",
   "nbconvert_exporter": ""
  }
 },
 "nbformat": 4,
 "nbformat_minor": 0
}
