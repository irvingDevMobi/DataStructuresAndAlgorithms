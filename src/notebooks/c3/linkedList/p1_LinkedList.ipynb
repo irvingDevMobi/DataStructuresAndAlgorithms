{
 "cells": [
  {
   "cell_type": "markdown",
   "source": [
    "# Linked List"
   ],
   "metadata": {
    "collapsed": false
   }
  },
  {
   "cell_type": "markdown",
   "source": [
    "A linked list is a collection of values arranged in a linear, unidirectional sequence.\n",
    "- Constant time insertion and removal from the front of the list.\n",
    "- Reliable performance characteristics.\n",
    "\n",
    "![Linked List](linkedlist.png)\n",
    "\n",
    "A linked list is a chain of nodes."
   ],
   "metadata": {
    "collapsed": false
   }
  },
  {
   "cell_type": "markdown",
   "source": [
    "## Nodes"
   ],
   "metadata": {
    "collapsed": false
   }
  },
  {
   "cell_type": "markdown",
   "source": [
    "Nodes have two responsibilities:\n",
    "- Hold a value.\n",
    "- Hold a reference to the next node. the absence of a reference to the next node, marks the end of the list\n",
    "![Node](node.png)"
   ],
   "metadata": {
    "collapsed": false
   }
  },
  {
   "cell_type": "code",
   "execution_count": 1,
   "outputs": [],
   "source": [
    "data class Node<T: Any>(\n",
    "    var value: T,\n",
    "    var next: Node<T>? = null\n",
    ") {\n",
    "    override fun toString(): String {\n",
    "        return if (next == null) \"$value\"\n",
    "        else \"$value -> ${next.toString()}\"\n",
    "    }\n",
    "}"
   ],
   "metadata": {
    "collapsed": false,
    "ExecuteTime": {
     "end_time": "2023-08-10T17:31:47.359737Z",
     "start_time": "2023-08-10T17:31:47.158171Z"
    }
   }
  },
  {
   "cell_type": "markdown",
   "source": [
    "Note: Using `T: Any` to set an upper bound for the type parameter ensures that `T` will always be a non-nullable type."
   ],
   "metadata": {
    "collapsed": false
   }
  },
  {
   "cell_type": "markdown",
   "source": [
    "Creating and linking nodes:"
   ],
   "metadata": {
    "collapsed": false
   }
  },
  {
   "cell_type": "code",
   "execution_count": 2,
   "outputs": [
    {
     "name": "stdout",
     "output_type": "stream",
     "text": [
      "1 -> 2 -> 3\n"
     ]
    }
   ],
   "source": [
    "val node1 = Node(value = 1)\n",
    "val node2 = Node(value = 2)\n",
    "val node3 = Node(value = 3)\n",
    "node1.next = node2\n",
    "node2.next = node3\n",
    "\n",
    "println(node1)"
   ],
   "metadata": {
    "collapsed": false,
    "ExecuteTime": {
     "end_time": "2023-08-10T17:31:47.471377Z",
     "start_time": "2023-08-10T17:31:47.360421Z"
    }
   }
  },
  {
   "cell_type": "markdown",
   "source": [
    "![Nodes Connected](nodes_connected.png)"
   ],
   "metadata": {
    "collapsed": false
   }
  },
  {
   "cell_type": "markdown",
   "source": [
    "## LinkedList"
   ],
   "metadata": {
    "collapsed": false
   }
  },
  {
   "cell_type": "code",
   "execution_count": 3,
   "outputs": [],
   "source": [
    "class LinkedList<T : Any> {\n",
    "    // private\n",
    "    var head: Node<T>? = null\n",
    "    // private\n",
    "    var tail: Node<T>? = null\n",
    "    // private\n",
    "    var size = 0\n",
    "\n",
    "    fun isEmpty(): Boolean = size == 0\n",
    "\n",
    "    override fun toString(): String {\n",
    "        return if (isEmpty()) \"EMPTY list\"\n",
    "        else head.toString()\n",
    "    }\n",
    "}"
   ],
   "metadata": {
    "collapsed": false,
    "ExecuteTime": {
     "end_time": "2023-08-10T17:31:47.545824Z",
     "start_time": "2023-08-10T17:31:47.472250Z"
    }
   }
  },
  {
   "cell_type": "markdown",
   "source": [
    "> Note: to can add functions to the class, we will be commenting private variables and functions."
   ],
   "metadata": {
    "collapsed": false
   }
  },
  {
   "cell_type": "markdown",
   "source": [
    "![Linked ListParts](linkedList_parts.png)"
   ],
   "metadata": {
    "collapsed": false
   }
  },
  {
   "cell_type": "markdown",
   "source": [
    "## Adding values to the list"
   ],
   "metadata": {
    "collapsed": false
   }
  },
  {
   "cell_type": "markdown",
   "source": [
    "1. `push`: Adds values at the front of the list. **Head-first insertion**\n",
    "2. `append` Adds a value at the end of the list.\n",
    "3. `insert`: Adds a value after a particular node of the list."
   ],
   "metadata": {
    "collapsed": false
   }
  },
  {
   "cell_type": "code",
   "execution_count": 4,
   "outputs": [],
   "source": [
    "fun <T : Any> LinkedList<T>.push(value: T) {\n",
    "    head = Node(value = value, next = head)\n",
    "    if (tail == null) tail = head\n",
    "    size++\n",
    "}"
   ],
   "metadata": {
    "collapsed": false,
    "ExecuteTime": {
     "end_time": "2023-08-10T17:31:47.604290Z",
     "start_time": "2023-08-10T17:31:47.546388Z"
    }
   }
  },
  {
   "cell_type": "markdown",
   "source": [
    "You create a new `Node` which holds the new value, and points to the node that was previously the `head` of the list."
   ],
   "metadata": {
    "collapsed": false
   }
  },
  {
   "cell_type": "markdown",
   "source": [
    "In the case in which you're pushing into an empty list, the new node is both the `head` and `tail`of the list."
   ],
   "metadata": {
    "collapsed": false
   }
  },
  {
   "cell_type": "markdown",
   "source": [
    "Example of push:"
   ],
   "metadata": {
    "collapsed": false
   }
  },
  {
   "cell_type": "code",
   "execution_count": 5,
   "outputs": [
    {
     "name": "stdout",
     "output_type": "stream",
     "text": [
      "1 -> 2 -> 3\n"
     ]
    }
   ],
   "source": [
    "val list = LinkedList<Int>()\n",
    "list.push(3)\n",
    "list.push(2)\n",
    "list.push(1)\n",
    "\n",
    "println(list)"
   ],
   "metadata": {
    "collapsed": false,
    "ExecuteTime": {
     "end_time": "2023-08-10T17:31:47.661992Z",
     "start_time": "2023-08-10T17:31:47.604584Z"
    }
   }
  },
  {
   "cell_type": "markdown",
   "source": [
    "We'll use the **fluent interface** pattern to chain multiple `push`calls."
   ],
   "metadata": {
    "collapsed": false
   }
  },
  {
   "cell_type": "code",
   "execution_count": 6,
   "outputs": [],
   "source": [
    "fun <T: Any> LinkedList<T>.push(value: T): LinkedList<T> = apply { \n",
    "    head = Node(value = value, next = head)\n",
    "    if (null == tail) tail = head\n",
    "    size++\n",
    " }"
   ],
   "metadata": {
    "collapsed": false,
    "ExecuteTime": {
     "end_time": "2023-08-10T17:31:47.738988Z",
     "start_time": "2023-08-10T17:31:47.659819Z"
    }
   }
  },
  {
   "cell_type": "markdown",
   "source": [
    "Example of fluent interface push"
   ],
   "metadata": {
    "collapsed": false
   }
  },
  {
   "cell_type": "code",
   "execution_count": 7,
   "outputs": [
    {
     "name": "stdout",
     "output_type": "stream",
     "text": [
      "1 -> 2 -> 3\n"
     ]
    }
   ],
   "source": [
    "val list = LinkedList<Int>()\n",
    "list.push(3).push(2).push(1)\n",
    "println(list)"
   ],
   "metadata": {
    "collapsed": false,
    "ExecuteTime": {
     "end_time": "2023-08-10T17:31:47.782025Z",
     "start_time": "2023-08-10T17:31:47.739304Z"
    }
   }
  },
  {
   "cell_type": "markdown",
   "source": [
    "## Append operations"
   ],
   "metadata": {
    "collapsed": false
   }
  },
  {
   "cell_type": "markdown",
   "source": [
    "This adds a value at the end of the list, which is known as **tail-end insertion** "
   ],
   "metadata": {
    "collapsed": false
   }
  },
  {
   "cell_type": "code",
   "execution_count": 8,
   "outputs": [],
   "source": [
    "fun <T: Any> LinkedList<T>.append(value: T) {\n",
    "    // 1\n",
    "    if (isEmpty()) {\n",
    "        push(value)\n",
    "        return\n",
    "    }\n",
    "    // 2\n",
    "    val newNode = Node(value = value)\n",
    "    tail?.next = newNode\n",
    "    // 3\n",
    "    tail = newNode\n",
    "    size++\n",
    "}"
   ],
   "metadata": {
    "collapsed": false,
    "ExecuteTime": {
     "end_time": "2023-08-10T17:31:47.826475Z",
     "start_time": "2023-08-10T17:31:47.780588Z"
    }
   }
  },
  {
   "cell_type": "markdown",
   "source": [
    "1. If the list is empty, you'll need to update both `head` and `tail`. Since `append` on an empty list is functionally identical to `push`, you invoke `push`to do the work for you.\n",
    "2. In all other cases, you create a new node *after* the `tail` node.\n",
    "3. Also, the new node is the tail of the list."
   ],
   "metadata": {
    "collapsed": false
   }
  },
  {
   "cell_type": "markdown",
   "source": [
    "Example of append:"
   ],
   "metadata": {
    "collapsed": false
   }
  },
  {
   "cell_type": "code",
   "execution_count": 9,
   "outputs": [
    {
     "name": "stdout",
     "output_type": "stream",
     "text": [
      "1 -> 2 -> 3\n"
     ]
    }
   ],
   "source": [
    "val list = LinkedList<Int>()\n",
    "list.append(1)\n",
    "list.append(2)\n",
    "list.append(3)\n",
    "\n",
    "println(list)"
   ],
   "metadata": {
    "collapsed": false,
    "ExecuteTime": {
     "end_time": "2023-08-10T17:31:47.875035Z",
     "start_time": "2023-08-10T17:31:47.826381Z"
    }
   }
  },
  {
   "cell_type": "markdown",
   "source": [
    "Append with fluent interface:"
   ],
   "metadata": {
    "collapsed": false
   }
  },
  {
   "cell_type": "code",
   "execution_count": 10,
   "outputs": [],
   "source": [
    "fun <T: Any> LinkedList<T>.append(value: T): LinkedList<T> = apply { \n",
    "    if (isEmpty()) {\n",
    "        push(value)\n",
    "        return@apply\n",
    "    }\n",
    "    val newNode = Node(value = value)\n",
    "    tail?.next = newNode\n",
    "    tail = newNode\n",
    "    size++\n",
    " }"
   ],
   "metadata": {
    "collapsed": false,
    "ExecuteTime": {
     "end_time": "2023-08-10T17:31:47.922993Z",
     "start_time": "2023-08-10T17:31:47.873525Z"
    }
   }
  },
  {
   "cell_type": "code",
   "execution_count": 11,
   "outputs": [
    {
     "name": "stdout",
     "output_type": "stream",
     "text": [
      "1 -> 2 -> 3\n"
     ]
    }
   ],
   "source": [
    "val list = LinkedList<Int>()\n",
    "list.append(1).append(2).append(3)\n",
    "\n",
    "println(list)"
   ],
   "metadata": {
    "collapsed": false,
    "ExecuteTime": {
     "end_time": "2023-08-10T17:31:47.967378Z",
     "start_time": "2023-08-10T17:31:47.925473Z"
    }
   }
  },
  {
   "cell_type": "markdown",
   "source": [
    "## Insert operations\n",
    "\n",
    "This operation inserts a value at a particular place in the list and requires two steps:\n",
    "\n",
    "1. Finding a particular node in the list.\n",
    "2. Inserting the new node after that node.\n"
   ],
   "metadata": {
    "collapsed": false
   }
  },
  {
   "cell_type": "code",
   "execution_count": 12,
   "outputs": [],
   "source": [
    "fun <T: Any> LinkedList<T>.nodeAt(index: Int): Node<T>? {\n",
    "    // 1\n",
    "    var currentNode = head\n",
    "    var currentIndex = 0\n",
    "    \n",
    "    // 2\n",
    "    while (currentNode != null && currentIndex < index) {\n",
    "        currentNode = currentNode.next\n",
    "        currentIndex++\n",
    "    }\n",
    "    return currentNode\n",
    "}"
   ],
   "metadata": {
    "collapsed": false,
    "ExecuteTime": {
     "end_time": "2023-08-10T17:31:48.012469Z",
     "start_time": "2023-08-10T17:31:47.965692Z"
    }
   }
  },
  {
   "cell_type": "markdown",
   "source": [
    "`nodeAt()` tries to retrieve a node in the list based on the given index. Since you can only access the nodes of the list from the head node, you'll have to make iterative traversals.\n",
    "\n",
    "1. You create a new reference to `head`and keep track of the current number of steps taken in the list.\n",
    "2. Using a `while` loop, you move the reference down the list until you reach the desired index.\n",
    "\n",
    "Now you need to insert the new node.\n",
    " "
   ],
   "metadata": {
    "collapsed": false
   }
  },
  {
   "cell_type": "code",
   "execution_count": 13,
   "outputs": [],
   "source": [
    "fun <T: Any> LinkedList<T>.insert(value: T, afterNode: Node<T>): Node<T> {\n",
    "    // 1\n",
    "    if (tail == afterNode) {\n",
    "        append(value)\n",
    "        return tail!!\n",
    "    }\n",
    "    // 2\n",
    "    val newNode = Node(value = value, next = afterNode.next)\n",
    "    // 3\n",
    "    afterNode.next = newNode\n",
    "    size++\n",
    "    return newNode\n",
    "}"
   ],
   "metadata": {
    "collapsed": false,
    "ExecuteTime": {
     "end_time": "2023-08-10T17:31:48.057964Z",
     "start_time": "2023-08-10T17:31:48.012597Z"
    }
   }
  },
  {
   "cell_type": "markdown",
   "source": [
    "1. In the case where this method is called with the `tail`node, you call the functionally equivalent `append` method. This takes care of updating `tail`.\n",
    "2. Otherwise, you create a new node and lint its `next` property to the next node of the specified Node.\n",
    "3. You reassign the `next` value of the specified node to link  it to the new node that you just created."
   ],
   "metadata": {
    "collapsed": false
   }
  },
  {
   "cell_type": "markdown",
   "source": [
    "Inserting at a particular index:"
   ],
   "metadata": {
    "collapsed": false
   }
  },
  {
   "cell_type": "code",
   "execution_count": 14,
   "outputs": [
    {
     "name": "stdout",
     "output_type": "stream",
     "text": [
      "Before inserting: 1 -> 2 -> 3\n",
      "After inserting: 1 -> 2 -> -1 -> -2 -> -3 -> 3\n"
     ]
    }
   ],
   "source": [
    "val list = LinkedList<Int>()\n",
    "list.push(3).push(2).push(1)\n",
    "\n",
    "println(\"Before inserting: $list\")\n",
    "\n",
    "var middleNode = list.nodeAt(1)!!\n",
    "for (i in 1..3) {\n",
    "    middleNode = list.insert(-1 * i, middleNode)\n",
    "}\n",
    "println(\"After inserting: $list\")"
   ],
   "metadata": {
    "collapsed": false,
    "ExecuteTime": {
     "end_time": "2023-08-10T17:31:48.162215Z",
     "start_time": "2023-08-10T17:31:48.058077Z"
    }
   }
  },
  {
   "cell_type": "markdown",
   "source": [
    "## Performance analysis\n",
    "\n",
    "![Linked List performance](linkedList_perfomance.png)"
   ],
   "metadata": {
    "collapsed": false
   }
  },
  {
   "cell_type": "markdown",
   "source": [
    "## Removing values from the list\n",
    "\n",
    "1. `pop`: Removes the value at the front of the list.\n",
    "2. `removeLast`: Removes the value at the end of the list.\n",
    "3. `removeAfter`: Removes a value after a particular node of the list."
   ],
   "metadata": {
    "collapsed": false
   }
  },
  {
   "cell_type": "markdown",
   "source": [
    "## Pop operations"
   ],
   "metadata": {
    "collapsed": false
   }
  },
  {
   "cell_type": "code",
   "execution_count": 15,
   "outputs": [],
   "source": [
    "fun <T: Any> LinkedList<T>.pop(): T? {\n",
    "    if (isEmpty()) return null\n",
    "    // 1\n",
    "    val result = head?.value\n",
    "    // 2\n",
    "    head = head?.next\n",
    "    size--\n",
    "    // 3\n",
    "    if (isEmpty()) tail = null\n",
    "    return result\n",
    "}"
   ],
   "metadata": {
    "collapsed": false,
    "ExecuteTime": {
     "end_time": "2023-08-10T17:31:48.200351Z",
     "start_time": "2023-08-10T17:31:48.161894Z"
    }
   }
  },
  {
   "cell_type": "markdown",
   "source": [
    "1. `pop()` returns the value that was removed.\n",
    "2. By moving the `head` down a node, you've effectively removed the first node of the list. The garbage collector will remove the old node from memory once the method finishes since there will be no more references attached to it. \n",
    "3. If the list becomes empty, you set `tail` to `null` as well."
   ],
   "metadata": {
    "collapsed": false
   }
  },
  {
   "cell_type": "markdown",
   "source": [
    "Example of pop:"
   ],
   "metadata": {
    "collapsed": false
   }
  },
  {
   "cell_type": "code",
   "execution_count": 16,
   "outputs": [
    {
     "name": "stdout",
     "output_type": "stream",
     "text": [
      "Before popping list 1 -> 2 -> 3\n",
      "After popping list 2 -> 3\n",
      "Popped value: 1\n"
     ]
    }
   ],
   "source": [
    "val list = LinkedList<Int>()\n",
    "list.push(3).push(2).push(1)\n",
    "println(\"Before popping list $list\")\n",
    "val poppedValue = list.pop()\n",
    "println(\"After popping list $list\")\n",
    "println(\"Popped value: $poppedValue\")"
   ],
   "metadata": {
    "collapsed": false,
    "ExecuteTime": {
     "end_time": "2023-08-10T17:31:48.301700Z",
     "start_time": "2023-08-10T17:31:48.198063Z"
    }
   }
  },
  {
   "cell_type": "markdown",
   "source": [
    "## Remove last operations\n",
    "\n",
    "Although you have a reference to the `tail` node, you can´t chop it off without having a reference to the node before it. Thus, you need to traverse the whole list to find the node before the last."
   ],
   "metadata": {
    "collapsed": false
   }
  },
  {
   "cell_type": "code",
   "execution_count": 17,
   "outputs": [],
   "source": [
    "fun <T: Any> LinkedList<T>.removeLast(): T? {\n",
    "    // 1\n",
    "    val head = head ?: return null\n",
    "    // 2\n",
    "    if (head.next == null) return pop()\n",
    "    // 3\n",
    "    size--\n",
    "    \n",
    "    // 4\n",
    "    var prev = head\n",
    "    var current = head\n",
    "    var next = current.next\n",
    "    while (next != null) {\n",
    "        prev = current\n",
    "        current = next\n",
    "        next = current.next\n",
    "    }\n",
    "    // 5\n",
    "    prev.next = null\n",
    "    tail = prev\n",
    "    return current.value\n",
    "}"
   ],
   "metadata": {
    "collapsed": false,
    "ExecuteTime": {
     "end_time": "2023-08-10T17:31:48.350505Z",
     "start_time": "2023-08-10T17:31:48.299677Z"
    }
   }
  },
  {
   "cell_type": "markdown",
   "source": [
    "1. If `head`is `null`, there's nothing to remove, so you return `null`.\n",
    "2. If the list only consists of one node, `removeLast` is functionally equivalent to `pop`.\n",
    "3. At this point, you know that you'll be removing a node, so you update the size of the list accordingly.\n",
    "4. You keep searching fot the next node until `current.next`is `null`. This signifies that `current`is the last node of the list.\n",
    "5. Since `current`is the last node, you disconnect it using the `prev.next`reference. You also make sure to update the `tail` reference."
   ],
   "metadata": {
    "collapsed": false
   }
  },
  {
   "cell_type": "markdown",
   "source": [
    "Example of removing the last node:"
   ],
   "metadata": {
    "collapsed": false
   }
  },
  {
   "cell_type": "code",
   "execution_count": 18,
   "outputs": [
    {
     "name": "stdout",
     "output_type": "stream",
     "text": [
      "Before removing last node: 1 -> 2 -> 3\n",
      "After removing last node: 1 -> 2\n",
      "Removed value: 3\n"
     ]
    }
   ],
   "source": [
    "val list = LinkedList<Int>().push(3).push(2).push(1)\n",
    "println(\"Before removing last node: $list\")\n",
    "\n",
    "val removedValue = list.removeLast()\n",
    "\n",
    "println(\"After removing last node: $list\")\n",
    "println(\"Removed value: $removedValue\")"
   ],
   "metadata": {
    "collapsed": false,
    "ExecuteTime": {
     "end_time": "2023-08-10T17:31:48.443980Z",
     "start_time": "2023-08-10T17:31:48.350392Z"
    }
   }
  },
  {
   "cell_type": "markdown",
   "source": [
    "`removeLast()` is an *O(n)* operation, which is relatively expansive."
   ],
   "metadata": {
    "collapsed": false
   }
  },
  {
   "cell_type": "markdown",
   "source": [
    "## Remove after operations\n",
    "\n",
    "You'll first find the node immediately before the node you wish to remove and then unlink it.\n",
    "![Removing the middle node](removing_after.png)"
   ],
   "metadata": {
    "collapsed": false
   }
  },
  {
   "cell_type": "code",
   "execution_count": 19,
   "outputs": [],
   "source": [
    "fun <T: Any> LinkedList<T>.removeAfter(node: Node<T>): T? {\n",
    "    val result = node.next?.value\n",
    "    \n",
    "    if (node.next == tail) {\n",
    "        tail = node\n",
    "    }\n",
    "    if (node.next != null) {\n",
    "        size--\n",
    "    }\n",
    "    node.next = node.next?.next\n",
    "    return result\n",
    "}"
   ],
   "metadata": {
    "collapsed": false,
    "ExecuteTime": {
     "end_time": "2023-08-10T17:31:48.481388Z",
     "start_time": "2023-08-10T17:31:48.443401Z"
    }
   }
  },
  {
   "cell_type": "markdown",
   "source": [
    "Example of removing a node after a particular node:"
   ],
   "metadata": {
    "collapsed": false
   }
  },
  {
   "cell_type": "code",
   "execution_count": 20,
   "outputs": [
    {
     "name": "stdout",
     "output_type": "stream",
     "text": [
      "Before removing at particular index: 1 -> 2 -> 3\n",
      "After removing at index 1: 1 -> 3\n",
      "Removed value: 2\n"
     ]
    }
   ],
   "source": [
    "val list = LinkedList<Int>().push(3).push(2).push(1)\n",
    "println(\"Before removing at particular index: $list\")\n",
    "\n",
    "val indexToRemove = 1\n",
    "val node = list.nodeAt(indexToRemove - 1)!!\n",
    "val removedValue = list.removeAfter(node)\n",
    "println(\"After removing at index $indexToRemove: $list\")\n",
    "println(\"Removed value: $removedValue\")"
   ],
   "metadata": {
    "collapsed": false,
    "ExecuteTime": {
     "end_time": "2023-08-10T17:31:48.585879Z",
     "start_time": "2023-08-10T17:31:48.481275Z"
    }
   }
  },
  {
   "cell_type": "markdown",
   "source": [
    "## Performance analysis"
   ],
   "metadata": {
    "collapsed": false
   }
  },
  {
   "cell_type": "markdown",
   "source": [
    "![Performance of Remove operations](performance_remove.png)"
   ],
   "metadata": {
    "collapsed": false
   }
  }
 ],
 "metadata": {
  "kernelspec": {
   "display_name": "Kotlin",
   "language": "kotlin",
   "name": "kotlin"
  },
  "language_info": {
   "name": "kotlin",
   "version": "1.8.20",
   "mimetype": "text/x-kotlin",
   "file_extension": ".kt",
   "pygments_lexer": "kotlin",
   "codemirror_mode": "text/x-kotlin",
   "nbconvert_exporter": ""
  },
  "ktnbPluginMetadata": {
   "projectLibraries": []
  }
 },
 "nbformat": 4,
 "nbformat_minor": 0
}
