{
 "cells": [
  {
   "cell_type": "markdown",
   "source": [
    "# Kotlin's collection interfaces"
   ],
   "metadata": {
    "collapsed": false
   }
  },
  {
   "cell_type": "markdown",
   "source": [
    "Four important *collection interfaces* are:\n",
    "\n",
    "- **Tier 1, Iterable**: Provides sequential access to its elements via an `Iterator`.\n",
    "- **Tier 2, Collection**: Is an iterable that provides additional functionality, allowing to check if the collection contains particular elements.\n",
    "- **Tier 3, MutableIterable**: Provides a `MutableIterator`, which allows the access and removal of items.\n",
    "- **Tier 4, MutableCollection**: Provides methods to alter its contained items.   "
   ],
   "metadata": {
    "collapsed": false
   }
  },
  {
   "cell_type": "code",
   "execution_count": 13,
   "outputs": [],
   "source": [
    "data class Node<T : Any>(\n",
    "    var value: T,\n",
    "    var next: Node<T>? = null\n",
    ") {\n",
    "    override fun toString(): String {\n",
    "        return if (next == null) \"$value\"\n",
    "        else \"$value -> ${next.toString()}\"\n",
    "    }\n",
    "}"
   ],
   "metadata": {
    "collapsed": false,
    "ExecuteTime": {
     "end_time": "2023-08-10T17:10:47.768968Z",
     "start_time": "2023-08-10T17:10:47.722030Z"
    }
   }
  },
  {
   "cell_type": "markdown",
   "source": [],
   "metadata": {
    "collapsed": false
   }
  },
  {
   "cell_type": "markdown",
   "source": [
    "A mutable collection type is a finite sequence and provides nondestructive sequential access but allows you to modify the collection."
   ],
   "metadata": {
    "collapsed": false
   }
  },
  {
   "cell_type": "markdown",
   "source": [
    "## Making Linked List Iterable"
   ],
   "metadata": {
    "collapsed": false
   }
  },
  {
   "cell_type": "code",
   "execution_count": 14,
   "outputs": [],
   "source": [
    "import java.lang.IndexOutOfBoundsException\n",
    "\n",
    "class LinkedList<T : Any> : Iterable<T> {\n",
    "\n",
    "    var size = 0\n",
    "        private set\n",
    "    private var head: Node<T>? = null\n",
    "    private var tail: Node<T>? = null\n",
    "\n",
    "    override fun iterator(): Iterator<T> {\n",
    "        return LinkedListIterator(this)\n",
    "    }\n",
    "\n",
    "    override fun toString(): String {\n",
    "        return if (isEmpty()) \"EMPTY list\"\n",
    "        else head.toString()\n",
    "    }\n",
    "\n",
    "    fun isEmpty(): Boolean = size == 0\n",
    "\n",
    "    fun push(value: T): LinkedList<T> = apply {\n",
    "        head = Node(value = value, next = head)\n",
    "        if (null == tail) tail = head\n",
    "        size++\n",
    "    }\n",
    "\n",
    "    fun pop(): T? {\n",
    "        if (isEmpty()) return null\n",
    "        val result = head?.value\n",
    "        head = head?.next\n",
    "        size--\n",
    "        if (isEmpty()) tail = null\n",
    "        return result\n",
    "    }\n",
    "\n",
    "    fun removeAfter(node: Node<T>): T? {\n",
    "        val result = node.next?.value\n",
    "\n",
    "        if (node.next == tail) {\n",
    "            tail = node\n",
    "        }\n",
    "        if (node.next != null) {\n",
    "            size--\n",
    "        }\n",
    "        node.next = node.next?.next\n",
    "        return result\n",
    "    }\n",
    "\n",
    "    fun nodeAt(index: Int): Node<T>? {\n",
    "        var currentNode = head\n",
    "        var currentIndex = 0\n",
    "\n",
    "        while (currentNode != null && currentIndex < index) {\n",
    "            currentNode = currentNode.next\n",
    "            currentIndex++\n",
    "        }\n",
    "        return currentNode\n",
    "    }\n",
    "    \n",
    "    // ... Other methods\n",
    "}\n",
    "\n",
    "class LinkedListIterator<T : Any>(\n",
    "    private val list: LinkedList<T>\n",
    ") : Iterator<T> {\n",
    "\n",
    "    private var index = 0\n",
    "    private var lastNode: Node<T>? = null\n",
    "\n",
    "    override fun hasNext(): Boolean {\n",
    "        return index < list.size\n",
    "    }\n",
    "\n",
    "    override fun next(): T {\n",
    "        // 1\n",
    "        if (index >= list.size) throw IndexOutOfBoundsException()\n",
    "        // 2\n",
    "        lastNode = if (index == 0) list.nodeAt(0) else lastNode?.next\n",
    "        // 3\n",
    "        index++\n",
    "        return lastNode!!.value\n",
    "    }\n",
    "\n",
    "}"
   ],
   "metadata": {
    "collapsed": false,
    "ExecuteTime": {
     "end_time": "2023-08-10T17:10:47.880578Z",
     "start_time": "2023-08-10T17:10:47.769180Z"
    }
   }
  },
  {
   "cell_type": "markdown",
   "source": [
    "1. You check that there are still elements to return. The clients should always check with `hasNext()`method before trying to read a value from the list with `next()`.\n",
    "2. In the first iteration, there is no `lastNode` set, so you take the first node, after the first iteration, you can get the `next`property of the last node to find the next one.\n",
    "3. Since the `lastNode` was updated, you need to update the `index` too.\n",
    "\n",
    "Now, you can iterate your linked list with a regular Kotlin `for` loop:"
   ],
   "metadata": {
    "collapsed": false
   }
  },
  {
   "cell_type": "code",
   "execution_count": 15,
   "outputs": [
    {
     "name": "stdout",
     "output_type": "stream",
     "text": [
      "1 -> 2 -> 3\n",
      "Double: 2\n",
      "Double: 4\n",
      "Double: 6\n"
     ]
    }
   ],
   "source": [
    "val list = LinkedList<Int>().push(3).push(2).push(1)\n",
    "println(list)\n",
    "\n",
    "for (item in list) {\n",
    "    println(\"Double: ${item * 2}\")\n",
    "}"
   ],
   "metadata": {
    "collapsed": false,
    "ExecuteTime": {
     "end_time": "2023-08-10T17:10:47.918707Z",
     "start_time": "2023-08-10T17:10:47.880342Z"
    }
   }
  },
  {
   "cell_type": "markdown",
   "source": [
    "## Becoming a collection"
   ],
   "metadata": {
    "collapsed": false
   }
  },
  {
   "cell_type": "code",
   "execution_count": 16,
   "outputs": [],
   "source": [
    "import java.lang.IndexOutOfBoundsException\n",
    "\n",
    "class LinkedList<T : Any> : Collection<T> {\n",
    "\n",
    "    override var size = 0\n",
    "        private set\n",
    "    private var head: Node<T>? = null\n",
    "    private var tail: Node<T>? = null\n",
    "\n",
    "    override fun iterator(): Iterator<T> {\n",
    "        return LinkedListIterator(this)\n",
    "    }\n",
    "\n",
    "    override fun toString(): String {\n",
    "        return if (isEmpty()) \"EMPTY list\"\n",
    "        else head.toString()\n",
    "    }\n",
    "\n",
    "    override fun isEmpty(): Boolean = size == 0\n",
    "\n",
    "    override fun contains(element: T): Boolean {\n",
    "        for (item in this) {\n",
    "            if (item == element) return true\n",
    "        }\n",
    "        return false\n",
    "    }\n",
    "\n",
    "    override fun containsAll(elements: Collection<T>): Boolean {\n",
    "        for (searched in elements) {\n",
    "            if (!contains(searched)) return false\n",
    "        }\n",
    "        return true\n",
    "    }\n",
    "\n",
    "    fun push(value: T): LinkedList<T> = apply {\n",
    "        head = Node(value = value, next = head)\n",
    "        if (null == tail) tail = head\n",
    "        size++\n",
    "    }\n",
    "\n",
    "    fun pop(): T? {\n",
    "        if (isEmpty()) return null\n",
    "        val result = head?.value\n",
    "        head = head?.next\n",
    "        size--\n",
    "        if (isEmpty()) tail = null\n",
    "        return result\n",
    "    }\n",
    "\n",
    "    fun removeAfter(node: Node<T>): T? {\n",
    "        val result = node.next?.value\n",
    "\n",
    "        if (node.next == tail) {\n",
    "            tail = node\n",
    "        }\n",
    "        if (node.next != null) {\n",
    "            size--\n",
    "        }\n",
    "        node.next = node.next?.next\n",
    "        return result\n",
    "    }\n",
    "\n",
    "    fun nodeAt(index: Int): Node<T>? {\n",
    "        var currentNode = head\n",
    "        var currentIndex = 0\n",
    "\n",
    "        while (currentNode != null && currentIndex < index) {\n",
    "            currentNode = currentNode.next\n",
    "            currentIndex++\n",
    "        }\n",
    "        return currentNode\n",
    "    }\n",
    "    \n",
    "    // ... Other methods\n",
    "}\n",
    "\n",
    "class LinkedListIterator<T : Any>(\n",
    "    private val list: LinkedList<T>\n",
    ") : Iterator<T> {\n",
    "\n",
    "    private var index = 0\n",
    "    private var lastNode: Node<T>? = null\n",
    "\n",
    "    override fun hasNext(): Boolean {\n",
    "        return index < list.size\n",
    "    }\n",
    "\n",
    "    override fun next(): T {\n",
    "        if (index >= list.size) throw IndexOutOfBoundsException()\n",
    "        lastNode = if (index == 0) list.nodeAt(0) else lastNode?.next\n",
    "        index++\n",
    "        return lastNode!!.value\n",
    "    }\n",
    "}"
   ],
   "metadata": {
    "collapsed": false,
    "ExecuteTime": {
     "end_time": "2023-08-10T17:10:48.034747Z",
     "start_time": "2023-08-10T17:10:47.918378Z"
    }
   }
  },
  {
   "cell_type": "markdown",
   "source": [
    "## Mutable collection"
   ],
   "metadata": {
    "collapsed": false
   }
  },
  {
   "cell_type": "markdown",
   "source": [
    "### Mutating while iterating"
   ],
   "metadata": {
    "collapsed": false
   }
  },
  {
   "cell_type": "code",
   "execution_count": 17,
   "outputs": [],
   "source": [
    "class LinkedListIterator<T : Any>(\n",
    "    private val list: LinkedList<T>\n",
    ") : MutableIterator<T> {\n",
    "    private var index = 0\n",
    "    private var lastNode: Node<T>? = null\n",
    "\n",
    "    override fun hasNext(): Boolean {\n",
    "        return index < list.size\n",
    "    }\n",
    "\n",
    "    override fun next(): T {\n",
    "        if (index >= list.size) throw IndexOutOfBoundsException()\n",
    "        lastNode = if (index == 0) list.nodeAt(0) else lastNode?.next\n",
    "        index++\n",
    "        return lastNode!!.value\n",
    "    }\n",
    "\n",
    "    override fun remove() {\n",
    "        // 1\n",
    "        if (index == 1) {\n",
    "            list.pop()\n",
    "        } else {\n",
    "            // 2\n",
    "            val prevNode = list.nodeAt(index - 2) ?: return\n",
    "            // 3\n",
    "            list.removeAfter(prevNode)\n",
    "            lastNode = prevNode\n",
    "        }\n",
    "        index--\n",
    "    }\n",
    "}"
   ],
   "metadata": {
    "collapsed": false,
    "ExecuteTime": {
     "end_time": "2023-08-10T17:10:48.091565Z",
     "start_time": "2023-08-10T17:10:48.034253Z"
    }
   }
  },
  {
   "cell_type": "markdown",
   "source": [
    "1. The simplest case is when you're at the beginning of the list. Using `pop` will do the trick.\n",
    "2. If the iterator is somewhere inside the list, it needs to find the previous node.\n",
    "3. The iterator need to step back so that `next()`returns the correct method the next time."
   ],
   "metadata": {
    "collapsed": false
   }
  },
  {
   "cell_type": "markdown",
   "source": [
    "## Mutable collection"
   ],
   "metadata": {
    "collapsed": false
   }
  },
  {
   "cell_type": "code",
   "execution_count": 19,
   "outputs": [],
   "source": [
    "class LinkedList<T : Any> : MutableCollection<T> {\n",
    "    override var size = 0\n",
    "        private set\n",
    "    private var head: Node<T>? = null\n",
    "    private var tail: Node<T>? = null\n",
    "\n",
    "    override fun clear() {\n",
    "        head = null\n",
    "        tail = null\n",
    "        size = 0\n",
    "    }\n",
    "\n",
    "    override fun addAll(elements: Collection<T>): Boolean {\n",
    "        for (element in elements) {\n",
    "            append(element)\n",
    "        }\n",
    "        return true\n",
    "    }\n",
    "\n",
    "    override fun add(element: T): Boolean {\n",
    "        append(element)\n",
    "        return true\n",
    "    }\n",
    "\n",
    "    override fun iterator(): MutableIterator<T> {\n",
    "        return LinkedListIterator(this)\n",
    "    }\n",
    "\n",
    "    override fun retainAll(elements: Collection<T>): Boolean {\n",
    "        var result = false\n",
    "        val iterator = this.iterator()\n",
    "        while (iterator.hasNext()) {\n",
    "            val item = iterator.next()\n",
    "            if (!elements.contains(item)) {\n",
    "                iterator.remove()\n",
    "                result = true\n",
    "            }\n",
    "        }\n",
    "        return result\n",
    "    }\n",
    "\n",
    "    override fun removeAll(elements: Collection<T>): Boolean {\n",
    "        var result = false\n",
    "        for (element in elements) {\n",
    "            result = remove(element) || result\n",
    "        }\n",
    "        return result\n",
    "    }\n",
    "\n",
    "    override fun remove(element: T): Boolean {\n",
    "        // 1\n",
    "        val iterator = iterator()\n",
    "        // 2\n",
    "        while (iterator.hasNext()) {\n",
    "            val item = iterator.next()\n",
    "            // 3\n",
    "            if (item == element) {\n",
    "                iterator.remove()\n",
    "                return true\n",
    "            }\n",
    "        }\n",
    "        // 4\n",
    "        return false\n",
    "    }\n",
    "\n",
    "    override fun isEmpty(): Boolean = size == 0\n",
    "\n",
    "    override fun contains(element: T): Boolean {\n",
    "        for (item in this) {\n",
    "            if (item == element) return true\n",
    "        }\n",
    "        return false\n",
    "    }\n",
    "\n",
    "    override fun containsAll(elements: Collection<T>): Boolean {\n",
    "        for (searched in elements) {\n",
    "            if (!contains(searched)) return false\n",
    "        }\n",
    "        return true\n",
    "    }\n",
    "\n",
    "    override fun toString(): String {\n",
    "        return if (isEmpty()) \"EMPTY list\"\n",
    "        else head.toString()\n",
    "    }\n",
    "\n",
    "    //...\n",
    "\n",
    "    fun append(value: T): LinkedList<T> = apply {\n",
    "        if (isEmpty()) {\n",
    "            push(value)\n",
    "            return@apply\n",
    "        }\n",
    "        val newNode = Node(value = value)\n",
    "        tail?.next = newNode\n",
    "        tail = newNode\n",
    "        size++\n",
    "    }\n",
    " \n",
    "    fun push(value: T): LinkedList<T> = apply {\n",
    "        head = Node(value = value, next = head)\n",
    "        if (null == tail) tail = head\n",
    "        size++\n",
    "    }\n",
    "\n",
    "    fun pop(): T? {\n",
    "        if (isEmpty()) return null\n",
    "        val result = head?.value\n",
    "        head = head?.next\n",
    "        size--\n",
    "        if (isEmpty()) tail = null\n",
    "        return result\n",
    "    }\n",
    "\n",
    "    fun removeAfter(node: Node<T>): T? {\n",
    "        val result = node.next?.value\n",
    "\n",
    "        if (node.next == tail) {\n",
    "            tail = node\n",
    "        }\n",
    "        if (node.next != null) {\n",
    "            size--\n",
    "        }\n",
    "        node.next = node.next?.next\n",
    "        return result\n",
    "    }\n",
    "\n",
    "    fun nodeAt(index: Int): Node<T>? {\n",
    "        var currentNode = head\n",
    "        var currentIndex = 0\n",
    "\n",
    "        while (currentNode != null && currentIndex < index) {\n",
    "            currentNode = currentNode.next\n",
    "            currentIndex++\n",
    "        }\n",
    "        return currentNode\n",
    "    }\n",
    "\n",
    "    // ... Other methods\n",
    "}\n",
    "\n",
    "class LinkedListIterator<T : Any>(\n",
    "    private val list: LinkedList<T>\n",
    ") : MutableIterator<T> {\n",
    "    private var index = 0\n",
    "    private var lastNode: Node<T>? = null\n",
    "\n",
    "    override fun hasNext(): Boolean {\n",
    "        return index < list.size\n",
    "    }\n",
    "\n",
    "    override fun next(): T {\n",
    "        if (index >= list.size) throw IndexOutOfBoundsException()\n",
    "        lastNode = if (index == 0) list.nodeAt(0) else lastNode?.next\n",
    "        index++\n",
    "        return lastNode!!.value\n",
    "    }\n",
    "\n",
    "    override fun remove() {\n",
    "        if (index == 1) {\n",
    "            list.pop()\n",
    "        } else {\n",
    "            val prevNode = list.nodeAt(index - 2) ?: return\n",
    "            list.removeAfter(prevNode)\n",
    "            lastNode = prevNode\n",
    "        }\n",
    "        index--\n",
    "    }\n",
    "}"
   ],
   "metadata": {
    "collapsed": false,
    "ExecuteTime": {
     "end_time": "2023-08-10T17:31:36.100439Z",
     "start_time": "2023-08-10T17:31:35.838459Z"
    }
   }
  },
  {
   "cell_type": "markdown",
   "source": [
    "1. Get an iterator that will help you iterate through the collection.\n",
    "2. Create a loop that checks if there are any elements left, and gets the next one\n",
    "3. Check if the current element is the one you're looking for, and if is, remove it.\n",
    "4. Return a boolean that signals if an element has been removed.\n",
    "\n",
    "### Testing Mutable Collection\n",
    "\n",
    "Removing elements:"
   ],
   "metadata": {
    "collapsed": false
   }
  },
  {
   "cell_type": "code",
   "execution_count": 20,
   "outputs": [
    {
     "name": "stdout",
     "output_type": "stream",
     "text": [
      "3 -> 2 -> 1\n",
      "3 -> 1\n"
     ]
    }
   ],
   "source": [
    "val list = LinkedList<Int>()\n",
    "list.add(3)\n",
    "list.add(2)\n",
    "list.add(1)\n",
    "println(list)\n",
    "\n",
    "list.remove(2)\n",
    "println(list)"
   ],
   "metadata": {
    "collapsed": false,
    "ExecuteTime": {
     "end_time": "2023-08-10T17:37:35.714719Z",
     "start_time": "2023-08-10T17:37:35.650312Z"
    }
   }
  },
  {
   "cell_type": "markdown",
   "source": [
    "Retaining elements:"
   ],
   "metadata": {
    "collapsed": false
   }
  },
  {
   "cell_type": "code",
   "execution_count": 21,
   "outputs": [
    {
     "name": "stdout",
     "output_type": "stream",
     "text": [
      "3 -> 2 -> 1 -> 4 -> 5\n",
      "3 -> 4 -> 5\n"
     ]
    }
   ],
   "source": [
    "val list = LinkedList<Int>()\n",
    "list.add(3)\n",
    "list.add(2)\n",
    "list.add(1)\n",
    "list.add(4)\n",
    "list.add(5)\n",
    "println(list)\n",
    "\n",
    "list.retainAll(listOf(3,4,5))\n",
    "println(list)"
   ],
   "metadata": {
    "collapsed": false,
    "ExecuteTime": {
     "end_time": "2023-08-10T17:38:59.288003Z",
     "start_time": "2023-08-10T17:38:59.186482Z"
    }
   }
  },
  {
   "cell_type": "markdown",
   "source": [
    "Remove all elements:"
   ],
   "metadata": {
    "collapsed": false
   }
  },
  {
   "cell_type": "code",
   "execution_count": 22,
   "outputs": [
    {
     "name": "stdout",
     "output_type": "stream",
     "text": [
      "3 -> 2 -> 1 -> 4 -> 5\n",
      "2 -> 1\n"
     ]
    }
   ],
   "source": [
    "val list = LinkedList<Int>()\n",
    "list.add(3)\n",
    "list.add(2)\n",
    "list.add(1)\n",
    "list.add(4)\n",
    "list.add(5)\n",
    "println(list)\n",
    "\n",
    "list.removeAll(listOf(3,4,5))\n",
    "println(list)"
   ],
   "metadata": {
    "collapsed": false,
    "ExecuteTime": {
     "end_time": "2023-08-10T17:40:18.339791Z",
     "start_time": "2023-08-10T17:40:18.202554Z"
    }
   }
  },
  {
   "cell_type": "markdown",
   "source": [],
   "metadata": {
    "collapsed": false
   }
  }
 ],
 "metadata": {
  "kernelspec": {
   "display_name": "Kotlin",
   "language": "kotlin",
   "name": "kotlin"
  },
  "language_info": {
   "name": "kotlin",
   "version": "1.8.20",
   "mimetype": "text/x-kotlin",
   "file_extension": ".kt",
   "pygments_lexer": "kotlin",
   "codemirror_mode": "text/x-kotlin",
   "nbconvert_exporter": ""
  }
 },
 "nbformat": 4,
 "nbformat_minor": 0
}
