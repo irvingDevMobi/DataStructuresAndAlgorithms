{
 "cells": [
  {
   "cell_type": "markdown",
   "source": [
    "# Trees"
   ],
   "metadata": {
    "collapsed": false
   }
  },
  {
   "cell_type": "markdown",
   "source": [
    "## Terminology\n",
    "\n",
    "### Node\n",
    "Each node encapsulates some data and keeps track of its **children**:\n",
    "![Nodes](nodes.png)\n",
    "\n",
    "### Parent and Child\n",
    "- Trees ae viewed starting from the top and branching toward bottom. \n",
    "- Every node, except for the first one, is connected to a single node above, which is referred to as a **parent** node.\n",
    "- The nodes directly below and connected to the parent node are know as child nodes.\n",
    "![Parent and child](parent_and_child.png)\n",
    "\n",
    "### Root\n",
    "The topmost node in the tree is called the **root** of the tree. It's the only node that has no parent:\n",
    "![Root](root.png)\n",
    "\n",
    "### Leaf\n",
    "A node that has no children is called a leaf:\n",
    "![Leaf](leaf.png)\n",
    " "
   ],
   "metadata": {
    "collapsed": false
   }
  },
  {
   "cell_type": "markdown",
   "source": [
    "## Implementation"
   ],
   "metadata": {
    "collapsed": false
   }
  },
  {
   "cell_type": "code",
   "execution_count": 4,
   "outputs": [],
   "source": [
    "class TreeNode<T>(val value: T) {\n",
    "    // private \n",
    "    val children: MutableList<TreeNode<T>> = mutableListOf()\n",
    "    \n",
    "    fun add(child: TreeNode<T>) = children.add(child)\n",
    "    \n",
    "}"
   ],
   "metadata": {
    "collapsed": false,
    "ExecuteTime": {
     "end_time": "2023-08-14T19:18:19.893036Z",
     "start_time": "2023-08-14T19:18:19.811011Z"
    }
   }
  },
  {
   "cell_type": "markdown",
   "source": [
    "Each node is responsible for a `value` and holds references to all of its children."
   ],
   "metadata": {
    "collapsed": false
   }
  },
  {
   "cell_type": "code",
   "execution_count": 2,
   "outputs": [],
   "source": [
    "val hot = TreeNode(\"Hot\")\n",
    "val cold = TreeNode(\"Cold\")\n",
    "\n",
    "val beverages = TreeNode(\"Beverages\").run { \n",
    "    add(hot)\n",
    "    add(cold)\n",
    " }"
   ],
   "metadata": {
    "collapsed": false,
    "ExecuteTime": {
     "end_time": "2023-08-14T19:04:14.575341Z",
     "start_time": "2023-08-14T19:04:14.447987Z"
    }
   }
  },
  {
   "cell_type": "markdown",
   "source": [
    "This arrangement corresponds to the following structure:\n",
    "![Tree beverages](beverages.png)"
   ],
   "metadata": {
    "collapsed": false
   }
  },
  {
   "cell_type": "markdown",
   "source": [
    "## Traversal algorithms\n",
    "\n",
    "Iterating through linear collections such as arrays or lists is straightforward. Linear collections have a clear start and end:\n",
    "![Traversing arrays or lists](traversing_linear_collection.png)\n",
    "\n",
    "Iterating through trees is a bit more complicated:\n",
    "![Traversing trees](traversing_trees.png)\n",
    "\n",
    "You traversal strategy depends on the problem you're trying to solve.\n",
    "\n",
    "There are multiple strategies for different trees and different problems. In all of these ways you can **visit** the node and use the information into them."
   ],
   "metadata": {
    "collapsed": false
   }
  },
  {
   "cell_type": "code",
   "execution_count": 5,
   "outputs": [],
   "source": [
    "typealias Visitor<T> = (TreeNode<T>) -> Unit"
   ],
   "metadata": {
    "collapsed": false,
    "ExecuteTime": {
     "end_time": "2023-08-14T19:18:37.014935Z",
     "start_time": "2023-08-14T19:18:36.975709Z"
    }
   }
  },
  {
   "cell_type": "markdown",
   "source": [
    "# Depth-first traversal\n",
    "\n",
    "Depth-first traversal starts at the root node and explore the tre as far as possible along each branch before reaching a leaf and then backtracking."
   ],
   "metadata": {
    "collapsed": false
   }
  },
  {
   "cell_type": "code",
   "execution_count": 6,
   "outputs": [],
   "source": [
    "fun <T: Any> TreeNode<T>.forEachDepthFirst(visit: Visitor<T>) {\n",
    "    visit(this)\n",
    "    children.forEach {\n",
    "        it.forEachDepthFirst(visit)\n",
    "    }\n",
    "}"
   ],
   "metadata": {
    "collapsed": false,
    "ExecuteTime": {
     "end_time": "2023-08-14T19:19:40.201295Z",
     "start_time": "2023-08-14T19:19:40.091392Z"
    }
   }
  },
  {
   "cell_type": "markdown",
   "source": [
    "This simple code uses recursion to process the next node."
   ],
   "metadata": {
    "collapsed": false
   }
  },
  {
   "cell_type": "code",
   "execution_count": 8,
   "outputs": [],
   "source": [
    "fun makeBeverageTree(): TreeNode<String> {\n",
    "  val tree = TreeNode(\"Beverages\")\n",
    "\n",
    "  val hot = TreeNode(\"hot\")\n",
    "  val cold = TreeNode(\"cold\")\n",
    "\n",
    "  val tea = TreeNode(\"tea\")\n",
    "  val coffee = TreeNode(\"coffee\")\n",
    "  val chocolate = TreeNode(\"cocoa\")\n",
    "\n",
    "  val blackTea = TreeNode(\"black\")\n",
    "  val greenTea = TreeNode(\"green\")\n",
    "  val chaiTea = TreeNode(\"chai\")\n",
    "\n",
    "  val soda = TreeNode(\"soda\")\n",
    "  val milk = TreeNode(\"milk\")\n",
    "\n",
    "  val gingerAle = TreeNode(\"ginger ale\")\n",
    "  val bitterLemon = TreeNode(\"bitter lemon\")\n",
    "\n",
    "  tree.add(hot)\n",
    "  tree.add(cold)\n",
    "\n",
    "  hot.add(tea)\n",
    "  hot.add(coffee)\n",
    "  hot.add(chocolate)\n",
    "\n",
    "  cold.add(soda)\n",
    "  cold.add(milk)\n",
    "\n",
    "  tea.add(blackTea)\n",
    "  tea.add(greenTea)\n",
    "  tea.add(chaiTea)\n",
    "\n",
    "  soda.add(gingerAle)\n",
    "  soda.add(bitterLemon)\n",
    "\n",
    "  return tree\n",
    "}"
   ],
   "metadata": {
    "collapsed": false,
    "ExecuteTime": {
     "end_time": "2023-08-14T19:21:31.523229Z",
     "start_time": "2023-08-14T19:21:31.421906Z"
    }
   }
  },
  {
   "cell_type": "markdown",
   "source": [
    "This function creates the following tree:\n",
    "![A big tree](beverages_full.png)"
   ],
   "metadata": {
    "collapsed": false
   }
  },
  {
   "cell_type": "code",
   "execution_count": 9,
   "outputs": [
    {
     "name": "stdout",
     "output_type": "stream",
     "text": [
      "Beverages\n",
      "hot\n",
      "tea\n",
      "black\n",
      "green\n",
      "chai\n",
      "coffee\n",
      "cocoa\n",
      "cold\n",
      "soda\n",
      "ginger ale\n",
      "bitter lemon\n",
      "milk\n"
     ]
    }
   ],
   "source": [
    "val tree = makeBeverageTree()\n",
    "tree.forEachDepthFirst { println(it.value) }"
   ],
   "metadata": {
    "collapsed": false,
    "ExecuteTime": {
     "end_time": "2023-08-14T19:23:20.754538Z",
     "start_time": "2023-08-14T19:23:20.654276Z"
    }
   }
  },
  {
   "cell_type": "markdown",
   "source": [
    "# Level-order traversal\n",
    "\n",
    "Level-order traversal visits each node of the tree based on the depth of the nodes. Starting at the root, every node on a level is visited before going to a lower level."
   ],
   "metadata": {
    "collapsed": false
   }
  },
  {
   "cell_type": "code",
   "execution_count": 10,
   "outputs": [],
   "source": [
    "interface Queue<T> {\n",
    "\n",
    "  fun enqueue(element: T): Boolean\n",
    "\n",
    "  fun dequeue(): T?\n",
    "\n",
    "  val count: Int\n",
    "\n",
    "  val isEmpty: Boolean\n",
    "    get() = count == 0\n",
    "\n",
    "  fun peek(): T?\n",
    "}\n",
    "\n",
    "class ArrayListQueue<T> : Queue<T> {\n",
    "\n",
    "  private val list = arrayListOf<T>()\n",
    "\n",
    "  override fun enqueue(element: T): Boolean {\n",
    "    list.add(element)\n",
    "    return true\n",
    "  }\n",
    "\n",
    "  override fun dequeue(): T? {\n",
    "    return if (isEmpty) null else list.removeAt(0)\n",
    "  }\n",
    "\n",
    "  override val count: Int\n",
    "    get() = list.size\n",
    "\n",
    "  override fun peek(): T? = list.getOrNull(0)\n",
    "\n",
    "  override fun toString(): String {\n",
    "    return list.toString()\n",
    "  }\n",
    "}"
   ],
   "metadata": {
    "collapsed": false,
    "ExecuteTime": {
     "end_time": "2023-08-14T19:37:19.481963Z",
     "start_time": "2023-08-14T19:37:19.254757Z"
    }
   }
  },
  {
   "cell_type": "code",
   "execution_count": 11,
   "outputs": [],
   "source": [
    "fun <T: Any> TreeNode<T>.forEachLevelOrder(visit: Visitor<T>) {\n",
    "    visit(this)\n",
    "    val queue = ArrayListQueue<TreeNode<T>>()\n",
    "    children.forEach { queue.enqueue(it) }\n",
    "    \n",
    "    var node = queue.dequeue()\n",
    "    while (node != null) {\n",
    "        visit(node)\n",
    "        node.children.forEach { queue.enqueue(it) }\n",
    "        node = queue.dequeue()\n",
    "    }\n",
    "}"
   ],
   "metadata": {
    "collapsed": false,
    "ExecuteTime": {
     "end_time": "2023-08-14T19:40:04.070768Z",
     "start_time": "2023-08-14T19:40:03.971896Z"
    }
   }
  },
  {
   "cell_type": "markdown",
   "source": [
    "`forEachLevelOreder` visits each of the nodes in level-order:\n",
    "![Level-order traversal](level-order.png)\n",
    "You start visiting the current node and putting all its children into the queue. Then you start consuming the queue until it's empty. Every time you visit a node, you also put all its children into the queue. This ensures that all nodes at the same level are visited one after the other."
   ],
   "metadata": {
    "collapsed": false
   }
  },
  {
   "cell_type": "code",
   "execution_count": 12,
   "outputs": [
    {
     "name": "stdout",
     "output_type": "stream",
     "text": [
      "Beverages\n",
      "hot\n",
      "cold\n",
      "tea\n",
      "coffee\n",
      "cocoa\n",
      "soda\n",
      "milk\n",
      "black\n",
      "green\n",
      "chai\n",
      "ginger ale\n",
      "bitter lemon\n"
     ]
    }
   ],
   "source": [
    "val tree = makeBeverageTree()\n",
    "tree.forEachLevelOrder { println(it.value) }"
   ],
   "metadata": {
    "collapsed": false,
    "ExecuteTime": {
     "end_time": "2023-08-14T19:44:22.047497Z",
     "start_time": "2023-08-14T19:44:21.970547Z"
    }
   }
  },
  {
   "cell_type": "markdown",
   "source": [
    "# Search"
   ],
   "metadata": {
    "collapsed": false
   }
  },
  {
   "cell_type": "code",
   "execution_count": 13,
   "outputs": [],
   "source": [
    "fun <T : Any> TreeNode<T>.search(value: T): TreeNode<T>? {\n",
    "    var result: TreeNode<T>? = null\n",
    "    forEachLevelOrder {\n",
    "        if (it.value == value) {\n",
    "            result = it\n",
    "        }\n",
    "    }\n",
    "    return result\n",
    "}"
   ],
   "metadata": {
    "collapsed": false,
    "ExecuteTime": {
     "end_time": "2023-08-14T19:47:35.673548Z",
     "start_time": "2023-08-14T19:47:35.622334Z"
    }
   }
  },
  {
   "cell_type": "code",
   "execution_count": 14,
   "outputs": [
    {
     "name": "stdout",
     "output_type": "stream",
     "text": [
      "Found node: ginger ale\n",
      "Couldn't find WKD Blue\n"
     ]
    }
   ],
   "source": [
    "val tree = makeBeverageTree()\n",
    "tree.search(\"ginger ale\")?.let {\n",
    "    println(\"Found node: ${it.value}\")\n",
    "}\n",
    "\n",
    "tree.search(\"WKD Blue\")?.let {\n",
    "    println(it.value)\n",
    "} ?: println(\"Couldn't find WKD Blue\")"
   ],
   "metadata": {
    "collapsed": false,
    "ExecuteTime": {
     "end_time": "2023-08-14T19:47:42.027345Z",
     "start_time": "2023-08-14T19:47:41.926300Z"
    }
   }
  },
  {
   "cell_type": "markdown",
   "source": [
    "Since it visits all nodes, if there are multiple matches, the last match wins. This means that you will get different objects back depending on what traversal you use."
   ],
   "metadata": {
    "collapsed": false
   }
  },
  {
   "cell_type": "markdown",
   "source": [
    "# Challenges"
   ],
   "metadata": {
    "collapsed": false
   }
  },
  {
   "cell_type": "markdown",
   "source": [
    "## Challenge 1: Tree challenge\n",
    "Print the values in a tree in an order based on their level. Nodes belonging to the same level should be printed on the same line."
   ],
   "metadata": {
    "collapsed": false
   }
  },
  {
   "cell_type": "markdown",
   "source": [
    "My Solution:"
   ],
   "metadata": {
    "collapsed": false
   }
  },
  {
   "cell_type": "code",
   "execution_count": 35,
   "outputs": [
    {
     "name": "stdout",
     "output_type": "stream",
     "text": [
      "Beverages\n",
      "hot cold \n",
      "tea coffee cocoa soda milk \n",
      "black green chai ginger ale bitter lemon \n"
     ]
    }
   ],
   "source": [
    "fun <T : Any> TreeNode<T>.printlnForEachLevel() {\n",
    "    println(this.value)\n",
    "    val queue = ArrayListQueue<TreeNode<T>>()\n",
    "    var currentChildCounter = children.size\n",
    "    children.forEach { queue.enqueue(it) }\n",
    "\n",
    "    var node = queue.dequeue()\n",
    "    var levelChildCounter = 0\n",
    "    while (node != null) {\n",
    "        currentChildCounter--\n",
    "        print(\"${node.value} \")\n",
    "        levelChildCounter += node.children.size\n",
    "        node.children.forEach { queue.enqueue(it) }\n",
    "        node = queue.dequeue()\n",
    "        if (currentChildCounter == 0) {\n",
    "            println()\n",
    "            currentChildCounter = levelChildCounter\n",
    "            levelChildCounter = 0\n",
    "        }\n",
    "    }\n",
    "}\n",
    "\n",
    "val tree = makeBeverageTree()\n",
    "tree.printlnForEachLevel()"
   ],
   "metadata": {
    "collapsed": false,
    "ExecuteTime": {
     "end_time": "2023-08-14T22:20:08.131048Z",
     "start_time": "2023-08-14T22:20:07.988590Z"
    }
   }
  },
  {
   "cell_type": "markdown",
   "source": [
    "Book Solution:"
   ],
   "metadata": {
    "collapsed": false
   }
  },
  {
   "cell_type": "code",
   "execution_count": null,
   "outputs": [],
   "source": [
    "fun <T: Any> TreeNode<T>.printEachLevel() {\n",
    "    // 1\n",
    "    val queue = ArrayListQueue<TreeNode<T>>()\n",
    "    var nodesLeftInCurrentLevel = 0\n",
    "    queue.enqueue(this)\n",
    "    \n",
    "    // 2\n",
    "    while (queue.isEmpty.not()) {\n",
    "        // 3\n",
    "        nodesLeftInCurrentLevel = queue.count\n",
    "        \n",
    "        // 4\n",
    "        while (nodesLeftInCurrentLevel > 0) {\n",
    "            queue.dequeue()?.let { node -> \n",
    "                print(\"${node.value} \")\n",
    "                node.children.forEach { queue.enqueue(it) }\n",
    "                nodesLeftInCurrentLevel--\n",
    "             } ?: break\n",
    "        }\n",
    "        \n",
    "        // 5\n",
    "        println()\n",
    "    }\n",
    "}"
   ],
   "metadata": {
    "collapsed": false
   }
  },
  {
   "cell_type": "markdown",
   "source": [
    "1. You use a `Queue` data structure to facilitate the level-order traversal. You also create `nodesLEftInCurrentLevel` to keep track of the number of nodes you' will need to work on before you print a new line. \n",
    "2. Your level-order traversal continues until your queue is empty.\n",
    "3. Inside first `while` loop, you begin by setting `nodesLeftInCurrentLevel` to the current elements in the queue.\n",
    "4. Using another `while`loop, you dequeue the first `nodesLeftInCurrentLevel` number of elements from the queue. Every element you dequeue is printed *without* establishing a new line. You also enqueue all the children of the node. \n",
    "5. At this point, you generate the new line using `println()`. In the next iteration, `nodesLeftInCurrentLevel` is updated with the count of the queue, representing the number of children from the previous iteration.\n",
    "\n",
    "This algorithm has a time complexity of **O(n)**, also uses **O(n)** space."
   ],
   "metadata": {
    "collapsed": false
   }
  },
  {
   "cell_type": "code",
   "execution_count": 37,
   "outputs": [
    {
     "name": "stdout",
     "output_type": "stream",
     "text": [
      "Beverages \n",
      "hot cold \n",
      "tea coffee cocoa soda milk \n",
      "black green chai ginger ale bitter lemon \n"
     ]
    }
   ],
   "source": [
    "val tree = makeBeverageTree()\n",
    "tree.printEachLevel()"
   ],
   "metadata": {
    "collapsed": false,
    "ExecuteTime": {
     "end_time": "2023-08-14T22:38:59.081284Z",
     "start_time": "2023-08-14T22:38:59.034426Z"
    }
   }
  }
 ],
 "metadata": {
  "kernelspec": {
   "display_name": "Kotlin",
   "language": "kotlin",
   "name": "kotlin"
  },
  "language_info": {
   "name": "kotlin",
   "version": "1.8.20",
   "mimetype": "text/x-kotlin",
   "file_extension": ".kt",
   "pygments_lexer": "kotlin",
   "codemirror_mode": "text/x-kotlin",
   "nbconvert_exporter": ""
  }
 },
 "nbformat": 4,
 "nbformat_minor": 0
}
